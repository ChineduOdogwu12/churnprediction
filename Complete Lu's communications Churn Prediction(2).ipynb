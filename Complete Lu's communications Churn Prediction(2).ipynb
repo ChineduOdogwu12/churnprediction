{
 "cells": [
  {
   "cell_type": "markdown",
   "id": "1d93e9c3",
   "metadata": {},
   "source": [
    "### Import Libraries"
   ]
  },
  {
   "cell_type": "code",
   "execution_count": 1,
   "id": "bbf3f79b",
   "metadata": {},
   "outputs": [],
   "source": [
    "import pandas as pd\n",
    "import numpy as np\n",
    "import scipy\n",
    "\n",
    "import matplotlib.pyplot as plt\n",
    "import seaborn as sns\n",
    "sns.set()"
   ]
  },
  {
   "cell_type": "code",
   "execution_count": 2,
   "id": "f8fcbdc6",
   "metadata": {},
   "outputs": [
    {
     "data": {
      "text/html": [
       "<div>\n",
       "<style scoped>\n",
       "    .dataframe tbody tr th:only-of-type {\n",
       "        vertical-align: middle;\n",
       "    }\n",
       "\n",
       "    .dataframe tbody tr th {\n",
       "        vertical-align: top;\n",
       "    }\n",
       "\n",
       "    .dataframe thead th {\n",
       "        text-align: right;\n",
       "    }\n",
       "</style>\n",
       "<table border=\"1\" class=\"dataframe\">\n",
       "  <thead>\n",
       "    <tr style=\"text-align: right;\">\n",
       "      <th></th>\n",
       "      <th>Unnamed: 0</th>\n",
       "      <th>customer_id</th>\n",
       "      <th>gender</th>\n",
       "      <th>location</th>\n",
       "      <th>partner</th>\n",
       "      <th>dependents</th>\n",
       "      <th>senior</th>\n",
       "      <th>Tenure</th>\n",
       "      <th>monthly_cost</th>\n",
       "      <th>package</th>\n",
       "      <th>survey</th>\n",
       "      <th>Class</th>\n",
       "    </tr>\n",
       "  </thead>\n",
       "  <tbody>\n",
       "    <tr>\n",
       "      <th>0</th>\n",
       "      <td>0</td>\n",
       "      <td>G1606</td>\n",
       "      <td>Female</td>\n",
       "      <td>Lancashire</td>\n",
       "      <td>0</td>\n",
       "      <td>1</td>\n",
       "      <td>0</td>\n",
       "      <td>20.0</td>\n",
       "      <td>NaN</td>\n",
       "      <td>2</td>\n",
       "      <td>0</td>\n",
       "      <td>Churn=No</td>\n",
       "    </tr>\n",
       "    <tr>\n",
       "      <th>1</th>\n",
       "      <td>1</td>\n",
       "      <td>F8889</td>\n",
       "      <td>Female</td>\n",
       "      <td>Essex</td>\n",
       "      <td>0</td>\n",
       "      <td>1</td>\n",
       "      <td>0</td>\n",
       "      <td>4.0</td>\n",
       "      <td>NaN</td>\n",
       "      <td>1</td>\n",
       "      <td>5</td>\n",
       "      <td>Churn=No</td>\n",
       "    </tr>\n",
       "    <tr>\n",
       "      <th>2</th>\n",
       "      <td>2</td>\n",
       "      <td>C5068</td>\n",
       "      <td>Female</td>\n",
       "      <td>Essex</td>\n",
       "      <td>0</td>\n",
       "      <td>Unknown</td>\n",
       "      <td>1</td>\n",
       "      <td>9.0</td>\n",
       "      <td>NaN</td>\n",
       "      <td>2</td>\n",
       "      <td>0</td>\n",
       "      <td>Churn=No</td>\n",
       "    </tr>\n",
       "    <tr>\n",
       "      <th>3</th>\n",
       "      <td>3</td>\n",
       "      <td>G9820</td>\n",
       "      <td>Male</td>\n",
       "      <td>West Yorkshire</td>\n",
       "      <td>1</td>\n",
       "      <td>1</td>\n",
       "      <td>1</td>\n",
       "      <td>9.0</td>\n",
       "      <td>NaN</td>\n",
       "      <td>4</td>\n",
       "      <td>9</td>\n",
       "      <td>Churn=No</td>\n",
       "    </tr>\n",
       "    <tr>\n",
       "      <th>4</th>\n",
       "      <td>4</td>\n",
       "      <td>H7261</td>\n",
       "      <td>Male</td>\n",
       "      <td>Greater Manchester</td>\n",
       "      <td>0</td>\n",
       "      <td>1</td>\n",
       "      <td>0</td>\n",
       "      <td>6.0</td>\n",
       "      <td>NaN</td>\n",
       "      <td>2</td>\n",
       "      <td>5</td>\n",
       "      <td>Churn=No</td>\n",
       "    </tr>\n",
       "  </tbody>\n",
       "</table>\n",
       "</div>"
      ],
      "text/plain": [
       "   Unnamed: 0 customer_id  gender            location  partner dependents  \\\n",
       "0           0       G1606  Female          Lancashire        0          1   \n",
       "1           1       F8889  Female               Essex        0          1   \n",
       "2           2       C5068  Female               Essex        0    Unknown   \n",
       "3           3       G9820    Male      West Yorkshire        1          1   \n",
       "4           4       H7261    Male  Greater Manchester        0          1   \n",
       "\n",
       "   senior  Tenure monthly_cost  package survey     Class  \n",
       "0       0    20.0          NaN        2      0  Churn=No  \n",
       "1       0     4.0          NaN        1      5  Churn=No  \n",
       "2       1     9.0          NaN        2      0  Churn=No  \n",
       "3       1     9.0          NaN        4      9  Churn=No  \n",
       "4       0     6.0          NaN        2      5  Churn=No  "
      ]
     },
     "execution_count": 2,
     "metadata": {},
     "output_type": "execute_result"
    }
   ],
   "source": [
    "churn_df = pd.read_csv('Group.csv')\n",
    "churn_df.head()"
   ]
  },
  {
   "cell_type": "code",
   "execution_count": 3,
   "id": "c6b0cfc9",
   "metadata": {},
   "outputs": [
    {
     "data": {
      "text/plain": [
       "(7350, 12)"
      ]
     },
     "execution_count": 3,
     "metadata": {},
     "output_type": "execute_result"
    }
   ],
   "source": [
    "churn_df.shape"
   ]
  },
  {
   "cell_type": "markdown",
   "id": "2d5f9414",
   "metadata": {},
   "source": [
    "## Data Cleaning"
   ]
  },
  {
   "cell_type": "code",
   "execution_count": 4,
   "id": "db383dc9",
   "metadata": {},
   "outputs": [
    {
     "data": {
      "text/plain": [
       "Unnamed: 0         0\n",
       "customer_id        0\n",
       "gender             0\n",
       "location           0\n",
       "partner            0\n",
       "dependents         0\n",
       "senior             0\n",
       "Tenure             0\n",
       "monthly_cost    7271\n",
       "package            0\n",
       "survey             0\n",
       "Class             59\n",
       "dtype: int64"
      ]
     },
     "execution_count": 4,
     "metadata": {},
     "output_type": "execute_result"
    }
   ],
   "source": [
    "## Here we find the total number of missing values in each column\n",
    "\n",
    "churn_df.isnull().sum()"
   ]
  },
  {
   "cell_type": "markdown",
   "id": "dd13cb89",
   "metadata": {},
   "source": [
    "#### Droping Irrelevant Column"
   ]
  },
  {
   "cell_type": "code",
   "execution_count": 5,
   "id": "dec9aafe",
   "metadata": {},
   "outputs": [],
   "source": [
    "churn_df.drop('customer_id', axis = 1, inplace = True)"
   ]
  },
  {
   "cell_type": "code",
   "execution_count": 6,
   "id": "d0541b88",
   "metadata": {},
   "outputs": [],
   "source": [
    "churn_df.drop('Unnamed: 0', axis = 1, inplace = True)"
   ]
  },
  {
   "cell_type": "code",
   "execution_count": 7,
   "id": "97e523c0",
   "metadata": {},
   "outputs": [
    {
     "data": {
      "text/html": [
       "<div>\n",
       "<style scoped>\n",
       "    .dataframe tbody tr th:only-of-type {\n",
       "        vertical-align: middle;\n",
       "    }\n",
       "\n",
       "    .dataframe tbody tr th {\n",
       "        vertical-align: top;\n",
       "    }\n",
       "\n",
       "    .dataframe thead th {\n",
       "        text-align: right;\n",
       "    }\n",
       "</style>\n",
       "<table border=\"1\" class=\"dataframe\">\n",
       "  <thead>\n",
       "    <tr style=\"text-align: right;\">\n",
       "      <th></th>\n",
       "      <th>gender</th>\n",
       "      <th>location</th>\n",
       "      <th>partner</th>\n",
       "      <th>dependents</th>\n",
       "      <th>senior</th>\n",
       "      <th>Tenure</th>\n",
       "      <th>monthly_cost</th>\n",
       "      <th>package</th>\n",
       "      <th>survey</th>\n",
       "      <th>Class</th>\n",
       "    </tr>\n",
       "  </thead>\n",
       "  <tbody>\n",
       "    <tr>\n",
       "      <th>0</th>\n",
       "      <td>Female</td>\n",
       "      <td>Lancashire</td>\n",
       "      <td>0</td>\n",
       "      <td>1</td>\n",
       "      <td>0</td>\n",
       "      <td>20.0</td>\n",
       "      <td>NaN</td>\n",
       "      <td>2</td>\n",
       "      <td>0</td>\n",
       "      <td>Churn=No</td>\n",
       "    </tr>\n",
       "    <tr>\n",
       "      <th>1</th>\n",
       "      <td>Female</td>\n",
       "      <td>Essex</td>\n",
       "      <td>0</td>\n",
       "      <td>1</td>\n",
       "      <td>0</td>\n",
       "      <td>4.0</td>\n",
       "      <td>NaN</td>\n",
       "      <td>1</td>\n",
       "      <td>5</td>\n",
       "      <td>Churn=No</td>\n",
       "    </tr>\n",
       "    <tr>\n",
       "      <th>2</th>\n",
       "      <td>Female</td>\n",
       "      <td>Essex</td>\n",
       "      <td>0</td>\n",
       "      <td>Unknown</td>\n",
       "      <td>1</td>\n",
       "      <td>9.0</td>\n",
       "      <td>NaN</td>\n",
       "      <td>2</td>\n",
       "      <td>0</td>\n",
       "      <td>Churn=No</td>\n",
       "    </tr>\n",
       "    <tr>\n",
       "      <th>3</th>\n",
       "      <td>Male</td>\n",
       "      <td>West Yorkshire</td>\n",
       "      <td>1</td>\n",
       "      <td>1</td>\n",
       "      <td>1</td>\n",
       "      <td>9.0</td>\n",
       "      <td>NaN</td>\n",
       "      <td>4</td>\n",
       "      <td>9</td>\n",
       "      <td>Churn=No</td>\n",
       "    </tr>\n",
       "    <tr>\n",
       "      <th>4</th>\n",
       "      <td>Male</td>\n",
       "      <td>Greater Manchester</td>\n",
       "      <td>0</td>\n",
       "      <td>1</td>\n",
       "      <td>0</td>\n",
       "      <td>6.0</td>\n",
       "      <td>NaN</td>\n",
       "      <td>2</td>\n",
       "      <td>5</td>\n",
       "      <td>Churn=No</td>\n",
       "    </tr>\n",
       "  </tbody>\n",
       "</table>\n",
       "</div>"
      ],
      "text/plain": [
       "   gender            location  partner dependents  senior  Tenure  \\\n",
       "0  Female          Lancashire        0          1       0    20.0   \n",
       "1  Female               Essex        0          1       0     4.0   \n",
       "2  Female               Essex        0    Unknown       1     9.0   \n",
       "3    Male      West Yorkshire        1          1       1     9.0   \n",
       "4    Male  Greater Manchester        0          1       0     6.0   \n",
       "\n",
       "  monthly_cost  package survey     Class  \n",
       "0          NaN        2      0  Churn=No  \n",
       "1          NaN        1      5  Churn=No  \n",
       "2          NaN        2      0  Churn=No  \n",
       "3          NaN        4      9  Churn=No  \n",
       "4          NaN        2      5  Churn=No  "
      ]
     },
     "execution_count": 7,
     "metadata": {},
     "output_type": "execute_result"
    }
   ],
   "source": [
    "churn_df.head()"
   ]
  },
  {
   "cell_type": "markdown",
   "id": "1a3a607a",
   "metadata": {},
   "source": [
    "Here we are going to fill the nan value in the \"monthly_cost\" with the monthly \"packages\""
   ]
  },
  {
   "cell_type": "code",
   "execution_count": 8,
   "id": "dc02fc57",
   "metadata": {},
   "outputs": [
    {
     "data": {
      "text/html": [
       "<div>\n",
       "<style scoped>\n",
       "    .dataframe tbody tr th:only-of-type {\n",
       "        vertical-align: middle;\n",
       "    }\n",
       "\n",
       "    .dataframe tbody tr th {\n",
       "        vertical-align: top;\n",
       "    }\n",
       "\n",
       "    .dataframe thead th {\n",
       "        text-align: right;\n",
       "    }\n",
       "</style>\n",
       "<table border=\"1\" class=\"dataframe\">\n",
       "  <thead>\n",
       "    <tr style=\"text-align: right;\">\n",
       "      <th></th>\n",
       "      <th>gender</th>\n",
       "      <th>location</th>\n",
       "      <th>partner</th>\n",
       "      <th>dependents</th>\n",
       "      <th>senior</th>\n",
       "      <th>Tenure</th>\n",
       "      <th>monthly_cost</th>\n",
       "      <th>package</th>\n",
       "      <th>survey</th>\n",
       "      <th>Class</th>\n",
       "    </tr>\n",
       "  </thead>\n",
       "  <tbody>\n",
       "    <tr>\n",
       "      <th>0</th>\n",
       "      <td>Female</td>\n",
       "      <td>Lancashire</td>\n",
       "      <td>0</td>\n",
       "      <td>1</td>\n",
       "      <td>0</td>\n",
       "      <td>20.0</td>\n",
       "      <td>£34</td>\n",
       "      <td>2</td>\n",
       "      <td>0</td>\n",
       "      <td>Churn=No</td>\n",
       "    </tr>\n",
       "    <tr>\n",
       "      <th>1</th>\n",
       "      <td>Female</td>\n",
       "      <td>Essex</td>\n",
       "      <td>0</td>\n",
       "      <td>1</td>\n",
       "      <td>0</td>\n",
       "      <td>4.0</td>\n",
       "      <td>£26</td>\n",
       "      <td>1</td>\n",
       "      <td>5</td>\n",
       "      <td>Churn=No</td>\n",
       "    </tr>\n",
       "    <tr>\n",
       "      <th>2</th>\n",
       "      <td>Female</td>\n",
       "      <td>Essex</td>\n",
       "      <td>0</td>\n",
       "      <td>Unknown</td>\n",
       "      <td>1</td>\n",
       "      <td>9.0</td>\n",
       "      <td>£34</td>\n",
       "      <td>2</td>\n",
       "      <td>0</td>\n",
       "      <td>Churn=No</td>\n",
       "    </tr>\n",
       "    <tr>\n",
       "      <th>3</th>\n",
       "      <td>Male</td>\n",
       "      <td>West Yorkshire</td>\n",
       "      <td>1</td>\n",
       "      <td>1</td>\n",
       "      <td>1</td>\n",
       "      <td>9.0</td>\n",
       "      <td>£44</td>\n",
       "      <td>4</td>\n",
       "      <td>9</td>\n",
       "      <td>Churn=No</td>\n",
       "    </tr>\n",
       "    <tr>\n",
       "      <th>4</th>\n",
       "      <td>Male</td>\n",
       "      <td>Greater Manchester</td>\n",
       "      <td>0</td>\n",
       "      <td>1</td>\n",
       "      <td>0</td>\n",
       "      <td>6.0</td>\n",
       "      <td>£34</td>\n",
       "      <td>2</td>\n",
       "      <td>5</td>\n",
       "      <td>Churn=No</td>\n",
       "    </tr>\n",
       "    <tr>\n",
       "      <th>...</th>\n",
       "      <td>...</td>\n",
       "      <td>...</td>\n",
       "      <td>...</td>\n",
       "      <td>...</td>\n",
       "      <td>...</td>\n",
       "      <td>...</td>\n",
       "      <td>...</td>\n",
       "      <td>...</td>\n",
       "      <td>...</td>\n",
       "      <td>...</td>\n",
       "    </tr>\n",
       "    <tr>\n",
       "      <th>7345</th>\n",
       "      <td>Male</td>\n",
       "      <td>Hertfordshire</td>\n",
       "      <td>1</td>\n",
       "      <td>1</td>\n",
       "      <td>0</td>\n",
       "      <td>14.0</td>\n",
       "      <td>£40</td>\n",
       "      <td>3</td>\n",
       "      <td>5</td>\n",
       "      <td>Churn=No</td>\n",
       "    </tr>\n",
       "    <tr>\n",
       "      <th>7346</th>\n",
       "      <td>Female</td>\n",
       "      <td>West Midlands</td>\n",
       "      <td>0</td>\n",
       "      <td>1</td>\n",
       "      <td>0</td>\n",
       "      <td>17.0</td>\n",
       "      <td>£40</td>\n",
       "      <td>3</td>\n",
       "      <td>6</td>\n",
       "      <td>Churn=No</td>\n",
       "    </tr>\n",
       "    <tr>\n",
       "      <th>7347</th>\n",
       "      <td>Male</td>\n",
       "      <td>Greater London</td>\n",
       "      <td>1</td>\n",
       "      <td>0</td>\n",
       "      <td>0</td>\n",
       "      <td>1.0</td>\n",
       "      <td>£44</td>\n",
       "      <td>4</td>\n",
       "      <td>1</td>\n",
       "      <td>Churn=Yes</td>\n",
       "    </tr>\n",
       "    <tr>\n",
       "      <th>7348</th>\n",
       "      <td>Male</td>\n",
       "      <td>Greater London</td>\n",
       "      <td>1</td>\n",
       "      <td>Unknown</td>\n",
       "      <td>1</td>\n",
       "      <td>13.0</td>\n",
       "      <td>£40</td>\n",
       "      <td>3</td>\n",
       "      <td>3</td>\n",
       "      <td>Churn=Yes</td>\n",
       "    </tr>\n",
       "    <tr>\n",
       "      <th>7349</th>\n",
       "      <td>Female</td>\n",
       "      <td>West Yorkshire</td>\n",
       "      <td>1</td>\n",
       "      <td>Unknown</td>\n",
       "      <td>0</td>\n",
       "      <td>16.0</td>\n",
       "      <td>£44</td>\n",
       "      <td>4</td>\n",
       "      <td>9</td>\n",
       "      <td>Churn=No</td>\n",
       "    </tr>\n",
       "  </tbody>\n",
       "</table>\n",
       "<p>7350 rows × 10 columns</p>\n",
       "</div>"
      ],
      "text/plain": [
       "      gender            location  partner dependents  senior  Tenure  \\\n",
       "0     Female          Lancashire        0          1       0    20.0   \n",
       "1     Female               Essex        0          1       0     4.0   \n",
       "2     Female               Essex        0    Unknown       1     9.0   \n",
       "3       Male      West Yorkshire        1          1       1     9.0   \n",
       "4       Male  Greater Manchester        0          1       0     6.0   \n",
       "...      ...                 ...      ...        ...     ...     ...   \n",
       "7345    Male       Hertfordshire        1          1       0    14.0   \n",
       "7346  Female       West Midlands        0          1       0    17.0   \n",
       "7347    Male      Greater London        1          0       0     1.0   \n",
       "7348    Male      Greater London        1    Unknown       1    13.0   \n",
       "7349  Female      West Yorkshire        1    Unknown       0    16.0   \n",
       "\n",
       "     monthly_cost  package survey      Class  \n",
       "0             £34        2      0   Churn=No  \n",
       "1             £26        1      5   Churn=No  \n",
       "2             £34        2      0   Churn=No  \n",
       "3             £44        4      9   Churn=No  \n",
       "4             £34        2      5   Churn=No  \n",
       "...           ...      ...    ...        ...  \n",
       "7345          £40        3      5   Churn=No  \n",
       "7346          £40        3      6   Churn=No  \n",
       "7347          £44        4      1  Churn=Yes  \n",
       "7348          £40        3      3  Churn=Yes  \n",
       "7349          £44        4      9   Churn=No  \n",
       "\n",
       "[7350 rows x 10 columns]"
      ]
     },
     "execution_count": 8,
     "metadata": {},
     "output_type": "execute_result"
    }
   ],
   "source": [
    "churn_df.loc[churn_df['package'] == 1, 'monthly_cost'] = '£26'\n",
    "churn_df.loc[churn_df['package'] == 2, 'monthly_cost'] = '£34'\n",
    "churn_df.loc[churn_df['package'] == 3, 'monthly_cost'] = '£40'\n",
    "churn_df.loc[churn_df['package'] == 4, 'monthly_cost'] = '£44'\n",
    "churn_df"
   ]
  },
  {
   "cell_type": "code",
   "execution_count": 9,
   "id": "826ef6cf",
   "metadata": {},
   "outputs": [
    {
     "data": {
      "text/plain": [
       "array(['£34', '£26', '£44', '£40'], dtype=object)"
      ]
     },
     "execution_count": 9,
     "metadata": {},
     "output_type": "execute_result"
    }
   ],
   "source": [
    "churn_df['monthly_cost']. unique()"
   ]
  },
  {
   "cell_type": "markdown",
   "id": "bcb32c40",
   "metadata": {},
   "source": [
    "Now let's convert the montly_cost from string to interger"
   ]
  },
  {
   "cell_type": "code",
   "execution_count": 10,
   "id": "6c82cb3a",
   "metadata": {
    "scrolled": true
   },
   "outputs": [],
   "source": [
    "# Now let's convert the montly_cost from string to interger\n",
    "\n",
    "churn_df['monthly_cost'] = churn_df['monthly_cost'].str.replace('£', '').astype(int)"
   ]
  },
  {
   "cell_type": "code",
   "execution_count": 11,
   "id": "43617ca2",
   "metadata": {},
   "outputs": [
    {
     "data": {
      "text/html": [
       "<div>\n",
       "<style scoped>\n",
       "    .dataframe tbody tr th:only-of-type {\n",
       "        vertical-align: middle;\n",
       "    }\n",
       "\n",
       "    .dataframe tbody tr th {\n",
       "        vertical-align: top;\n",
       "    }\n",
       "\n",
       "    .dataframe thead th {\n",
       "        text-align: right;\n",
       "    }\n",
       "</style>\n",
       "<table border=\"1\" class=\"dataframe\">\n",
       "  <thead>\n",
       "    <tr style=\"text-align: right;\">\n",
       "      <th></th>\n",
       "      <th>gender</th>\n",
       "      <th>location</th>\n",
       "      <th>partner</th>\n",
       "      <th>dependents</th>\n",
       "      <th>senior</th>\n",
       "      <th>Tenure</th>\n",
       "      <th>monthly_cost</th>\n",
       "      <th>package</th>\n",
       "      <th>survey</th>\n",
       "      <th>Class</th>\n",
       "    </tr>\n",
       "  </thead>\n",
       "  <tbody>\n",
       "    <tr>\n",
       "      <th>0</th>\n",
       "      <td>Female</td>\n",
       "      <td>Lancashire</td>\n",
       "      <td>0</td>\n",
       "      <td>1</td>\n",
       "      <td>0</td>\n",
       "      <td>20.0</td>\n",
       "      <td>34</td>\n",
       "      <td>2</td>\n",
       "      <td>0</td>\n",
       "      <td>Churn=No</td>\n",
       "    </tr>\n",
       "    <tr>\n",
       "      <th>1</th>\n",
       "      <td>Female</td>\n",
       "      <td>Essex</td>\n",
       "      <td>0</td>\n",
       "      <td>1</td>\n",
       "      <td>0</td>\n",
       "      <td>4.0</td>\n",
       "      <td>26</td>\n",
       "      <td>1</td>\n",
       "      <td>5</td>\n",
       "      <td>Churn=No</td>\n",
       "    </tr>\n",
       "    <tr>\n",
       "      <th>2</th>\n",
       "      <td>Female</td>\n",
       "      <td>Essex</td>\n",
       "      <td>0</td>\n",
       "      <td>Unknown</td>\n",
       "      <td>1</td>\n",
       "      <td>9.0</td>\n",
       "      <td>34</td>\n",
       "      <td>2</td>\n",
       "      <td>0</td>\n",
       "      <td>Churn=No</td>\n",
       "    </tr>\n",
       "    <tr>\n",
       "      <th>3</th>\n",
       "      <td>Male</td>\n",
       "      <td>West Yorkshire</td>\n",
       "      <td>1</td>\n",
       "      <td>1</td>\n",
       "      <td>1</td>\n",
       "      <td>9.0</td>\n",
       "      <td>44</td>\n",
       "      <td>4</td>\n",
       "      <td>9</td>\n",
       "      <td>Churn=No</td>\n",
       "    </tr>\n",
       "    <tr>\n",
       "      <th>4</th>\n",
       "      <td>Male</td>\n",
       "      <td>Greater Manchester</td>\n",
       "      <td>0</td>\n",
       "      <td>1</td>\n",
       "      <td>0</td>\n",
       "      <td>6.0</td>\n",
       "      <td>34</td>\n",
       "      <td>2</td>\n",
       "      <td>5</td>\n",
       "      <td>Churn=No</td>\n",
       "    </tr>\n",
       "  </tbody>\n",
       "</table>\n",
       "</div>"
      ],
      "text/plain": [
       "   gender            location  partner dependents  senior  Tenure  \\\n",
       "0  Female          Lancashire        0          1       0    20.0   \n",
       "1  Female               Essex        0          1       0     4.0   \n",
       "2  Female               Essex        0    Unknown       1     9.0   \n",
       "3    Male      West Yorkshire        1          1       1     9.0   \n",
       "4    Male  Greater Manchester        0          1       0     6.0   \n",
       "\n",
       "   monthly_cost  package survey     Class  \n",
       "0            34        2      0  Churn=No  \n",
       "1            26        1      5  Churn=No  \n",
       "2            34        2      0  Churn=No  \n",
       "3            44        4      9  Churn=No  \n",
       "4            34        2      5  Churn=No  "
      ]
     },
     "execution_count": 11,
     "metadata": {},
     "output_type": "execute_result"
    }
   ],
   "source": [
    "churn_df.head()"
   ]
  },
  {
   "cell_type": "code",
   "execution_count": 12,
   "id": "ea0701f0",
   "metadata": {},
   "outputs": [
    {
     "data": {
      "text/plain": [
       "dtype('int32')"
      ]
     },
     "execution_count": 12,
     "metadata": {},
     "output_type": "execute_result"
    }
   ],
   "source": [
    "churn_df['monthly_cost'].dtypes"
   ]
  },
  {
   "cell_type": "markdown",
   "id": "dd71119f",
   "metadata": {},
   "source": [
    "Now let's calculate the 2% discount in the monthly_cost"
   ]
  },
  {
   "cell_type": "code",
   "execution_count": 13,
   "id": "29e5a75a",
   "metadata": {},
   "outputs": [],
   "source": [
    "# Now let's calculate the 2% discount in the monthly_cost\n",
    "\n",
    "churn_df.loc[churn_df['Tenure'] <= 25, '2%_discount'] = churn_df['monthly_cost'] * 0.02"
   ]
  },
  {
   "cell_type": "code",
   "execution_count": 14,
   "id": "91690c1f",
   "metadata": {},
   "outputs": [
    {
     "data": {
      "text/html": [
       "<div>\n",
       "<style scoped>\n",
       "    .dataframe tbody tr th:only-of-type {\n",
       "        vertical-align: middle;\n",
       "    }\n",
       "\n",
       "    .dataframe tbody tr th {\n",
       "        vertical-align: top;\n",
       "    }\n",
       "\n",
       "    .dataframe thead th {\n",
       "        text-align: right;\n",
       "    }\n",
       "</style>\n",
       "<table border=\"1\" class=\"dataframe\">\n",
       "  <thead>\n",
       "    <tr style=\"text-align: right;\">\n",
       "      <th></th>\n",
       "      <th>gender</th>\n",
       "      <th>location</th>\n",
       "      <th>partner</th>\n",
       "      <th>dependents</th>\n",
       "      <th>senior</th>\n",
       "      <th>Tenure</th>\n",
       "      <th>monthly_cost</th>\n",
       "      <th>package</th>\n",
       "      <th>survey</th>\n",
       "      <th>Class</th>\n",
       "      <th>2%_discount</th>\n",
       "    </tr>\n",
       "  </thead>\n",
       "  <tbody>\n",
       "    <tr>\n",
       "      <th>0</th>\n",
       "      <td>Female</td>\n",
       "      <td>Lancashire</td>\n",
       "      <td>0</td>\n",
       "      <td>1</td>\n",
       "      <td>0</td>\n",
       "      <td>20.0</td>\n",
       "      <td>34</td>\n",
       "      <td>2</td>\n",
       "      <td>0</td>\n",
       "      <td>Churn=No</td>\n",
       "      <td>0.68</td>\n",
       "    </tr>\n",
       "    <tr>\n",
       "      <th>1</th>\n",
       "      <td>Female</td>\n",
       "      <td>Essex</td>\n",
       "      <td>0</td>\n",
       "      <td>1</td>\n",
       "      <td>0</td>\n",
       "      <td>4.0</td>\n",
       "      <td>26</td>\n",
       "      <td>1</td>\n",
       "      <td>5</td>\n",
       "      <td>Churn=No</td>\n",
       "      <td>0.52</td>\n",
       "    </tr>\n",
       "    <tr>\n",
       "      <th>2</th>\n",
       "      <td>Female</td>\n",
       "      <td>Essex</td>\n",
       "      <td>0</td>\n",
       "      <td>Unknown</td>\n",
       "      <td>1</td>\n",
       "      <td>9.0</td>\n",
       "      <td>34</td>\n",
       "      <td>2</td>\n",
       "      <td>0</td>\n",
       "      <td>Churn=No</td>\n",
       "      <td>0.68</td>\n",
       "    </tr>\n",
       "    <tr>\n",
       "      <th>3</th>\n",
       "      <td>Male</td>\n",
       "      <td>West Yorkshire</td>\n",
       "      <td>1</td>\n",
       "      <td>1</td>\n",
       "      <td>1</td>\n",
       "      <td>9.0</td>\n",
       "      <td>44</td>\n",
       "      <td>4</td>\n",
       "      <td>9</td>\n",
       "      <td>Churn=No</td>\n",
       "      <td>0.88</td>\n",
       "    </tr>\n",
       "    <tr>\n",
       "      <th>4</th>\n",
       "      <td>Male</td>\n",
       "      <td>Greater Manchester</td>\n",
       "      <td>0</td>\n",
       "      <td>1</td>\n",
       "      <td>0</td>\n",
       "      <td>6.0</td>\n",
       "      <td>34</td>\n",
       "      <td>2</td>\n",
       "      <td>5</td>\n",
       "      <td>Churn=No</td>\n",
       "      <td>0.68</td>\n",
       "    </tr>\n",
       "  </tbody>\n",
       "</table>\n",
       "</div>"
      ],
      "text/plain": [
       "   gender            location  partner dependents  senior  Tenure  \\\n",
       "0  Female          Lancashire        0          1       0    20.0   \n",
       "1  Female               Essex        0          1       0     4.0   \n",
       "2  Female               Essex        0    Unknown       1     9.0   \n",
       "3    Male      West Yorkshire        1          1       1     9.0   \n",
       "4    Male  Greater Manchester        0          1       0     6.0   \n",
       "\n",
       "   monthly_cost  package survey     Class  2%_discount  \n",
       "0            34        2      0  Churn=No         0.68  \n",
       "1            26        1      5  Churn=No         0.52  \n",
       "2            34        2      0  Churn=No         0.68  \n",
       "3            44        4      9  Churn=No         0.88  \n",
       "4            34        2      5  Churn=No         0.68  "
      ]
     },
     "execution_count": 14,
     "metadata": {},
     "output_type": "execute_result"
    }
   ],
   "source": [
    "churn_df.head()"
   ]
  },
  {
   "cell_type": "code",
   "execution_count": 15,
   "id": "cb0fd61b",
   "metadata": {},
   "outputs": [
    {
     "data": {
      "text/plain": [
       "array(['Churn=No', 'Churn=Yes', nan, 'Y$e$s$$'], dtype=object)"
      ]
     },
     "execution_count": 15,
     "metadata": {},
     "output_type": "execute_result"
    }
   ],
   "source": [
    "churn_df['Class'].unique()"
   ]
  },
  {
   "cell_type": "markdown",
   "id": "6ab35a9a",
   "metadata": {},
   "source": [
    "Let's assume that \"Y$e$s$$\" is a typographical error meant for \"churn = yes\". \n",
    "Hence, let us replace it with yes"
   ]
  },
  {
   "cell_type": "code",
   "execution_count": 16,
   "id": "35dfe743",
   "metadata": {},
   "outputs": [],
   "source": [
    "# Let's assume that \"Y$e$s$$\" was a typographical error meant for \"churn = yes\". \n",
    "\n",
    "churn_df['Class'].replace('Y$e$s$$', 'Yes', inplace = True)"
   ]
  },
  {
   "cell_type": "code",
   "execution_count": 17,
   "id": "4157f779",
   "metadata": {},
   "outputs": [
    {
     "data": {
      "text/plain": [
       "Churn=No     5184\n",
       "Churn=Yes    2088\n",
       "Yes            19\n",
       "Name: Class, dtype: int64"
      ]
     },
     "execution_count": 17,
     "metadata": {},
     "output_type": "execute_result"
    }
   ],
   "source": [
    "churn_df['Class'].value_counts()"
   ]
  },
  {
   "cell_type": "code",
   "execution_count": 18,
   "id": "d7b14a86",
   "metadata": {},
   "outputs": [
    {
     "data": {
      "text/plain": [
       "array(['Churn=No', 'Churn=Yes', nan, 'Yes'], dtype=object)"
      ]
     },
     "execution_count": 18,
     "metadata": {},
     "output_type": "execute_result"
    }
   ],
   "source": [
    "churn_df['Class'].unique()"
   ]
  },
  {
   "cell_type": "markdown",
   "id": "7f2fa1c7",
   "metadata": {},
   "source": [
    "Now let's replace the nan value with the most predominate value (which is 'No')"
   ]
  },
  {
   "cell_type": "code",
   "execution_count": 19,
   "id": "c9c34604",
   "metadata": {},
   "outputs": [],
   "source": [
    "churn_df['Class'].replace('nan', 'No', inplace = True)"
   ]
  },
  {
   "cell_type": "code",
   "execution_count": 20,
   "id": "a0986b1c",
   "metadata": {},
   "outputs": [
    {
     "data": {
      "text/plain": [
       "Churn=No     5184\n",
       "Churn=Yes    2088\n",
       "Yes            19\n",
       "Name: Class, dtype: int64"
      ]
     },
     "execution_count": 20,
     "metadata": {},
     "output_type": "execute_result"
    }
   ],
   "source": [
    "churn_df['Class'].value_counts()"
   ]
  },
  {
   "cell_type": "code",
   "execution_count": 21,
   "id": "3e4a0c6f",
   "metadata": {},
   "outputs": [],
   "source": [
    "# Let's replace all the \"Churn=No\" with \"No\" and also replacing \"Churn=Yes\" with \"Yes\"\n",
    "\n",
    "churn_df['Class'].replace('Churn=No', 'No', inplace = True)\n",
    "churn_df['Class'].replace('Churn=Yes', 'Yes', inplace = True)"
   ]
  },
  {
   "cell_type": "markdown",
   "id": "9d4e9510",
   "metadata": {},
   "source": [
    "#### Data Exploration on Univariate Analysis"
   ]
  },
  {
   "cell_type": "code",
   "execution_count": 22,
   "id": "c4546d53",
   "metadata": {},
   "outputs": [
    {
     "data": {
      "image/png": "[encoded data removed]",
      "text/plain": [
       "<Figure size 432x288 with 1 Axes>"
      ]
     },
     "metadata": {},
     "output_type": "display_data"
    },
    {
     "data": {
      "image/png": "[encoded data removed]",
      "text/plain": [
       "<Figure size 432x288 with 1 Axes>"
      ]
     },
     "metadata": {},
     "output_type": "display_data"
    },
    {
     "data": {
      "image/png": "[encoded data removed]",
      "text/plain": [
       "<Figure size 432x288 with 1 Axes>"
      ]
     },
     "metadata": {},
     "output_type": "display_data"
    },
    {
     "data": {
      "image/png": "[encoded data removed]",
      "text/plain": [
       "<Figure size 432x288 with 1 Axes>"
      ]
     },
     "metadata": {},
     "output_type": "display_data"
    },
    {
     "data": {
      "image/png": "[encoded data removed]",
      "text/plain": [
       "<Figure size 432x288 with 1 Axes>"
      ]
     },
     "metadata": {},
     "output_type": "display_data"
    },
    {
     "data": {
      "image/png": "[encoded data removed]",
      "text/plain": [
       "<Figure size 432x288 with 1 Axes>"
      ]
     },
     "metadata": {},
     "output_type": "display_data"
    },
    {
     "data": {
      "image/png": "[encoded data removed]",
      "text/plain": [
       "<Figure size 432x288 with 1 Axes>"
      ]
     },
     "metadata": {},
     "output_type": "display_data"
    },
    {
     "data": {
      "image/png": "[encoded data removed]",
      "text/plain": [
       "<Figure size 432x288 with 1 Axes>"
      ]
     },
     "metadata": {},
     "output_type": "display_data"
    },
    {
     "data": {
      "image/png": "[encoded data removed]",
      "text/plain": [
       "<Figure size 432x288 with 1 Axes>"
      ]
     },
     "metadata": {},
     "output_type": "display_data"
    },
    {
     "data": {
      "image/png": "[encoded data removed]",
      "text/plain": [
       "<Figure size 432x288 with 1 Axes>"
      ]
     },
     "metadata": {},
     "output_type": "display_data"
    }
   ],
   "source": [
    "for i, predictor in enumerate(churn_df.drop(columns=['Class'])):\n",
    "    plt.figure(i)\n",
    "    sns.countplot(data=churn_df, x=predictor, hue='Class')"
   ]
  },
  {
   "cell_type": "code",
   "execution_count": 23,
   "id": "e770ab3b",
   "metadata": {},
   "outputs": [
    {
     "data": {
      "text/plain": [
       "1          3531\n",
       "Unknown    2208\n",
       "0          1611\n",
       "Name: dependents, dtype: int64"
      ]
     },
     "execution_count": 23,
     "metadata": {},
     "output_type": "execute_result"
    }
   ],
   "source": [
    "churn_df['dependents'].value_counts()"
   ]
  },
  {
   "cell_type": "code",
   "execution_count": 24,
   "id": "62b498b8",
   "metadata": {},
   "outputs": [
    {
     "data": {
      "text/html": [
       "<div>\n",
       "<style scoped>\n",
       "    .dataframe tbody tr th:only-of-type {\n",
       "        vertical-align: middle;\n",
       "    }\n",
       "\n",
       "    .dataframe tbody tr th {\n",
       "        vertical-align: top;\n",
       "    }\n",
       "\n",
       "    .dataframe thead th {\n",
       "        text-align: right;\n",
       "    }\n",
       "</style>\n",
       "<table border=\"1\" class=\"dataframe\">\n",
       "  <thead>\n",
       "    <tr style=\"text-align: right;\">\n",
       "      <th></th>\n",
       "      <th>gender</th>\n",
       "      <th>location</th>\n",
       "      <th>partner</th>\n",
       "      <th>dependents</th>\n",
       "      <th>senior</th>\n",
       "      <th>Tenure</th>\n",
       "      <th>monthly_cost</th>\n",
       "      <th>package</th>\n",
       "      <th>survey</th>\n",
       "      <th>Class</th>\n",
       "      <th>2%_discount</th>\n",
       "    </tr>\n",
       "  </thead>\n",
       "  <tbody>\n",
       "    <tr>\n",
       "      <th>0</th>\n",
       "      <td>Female</td>\n",
       "      <td>Lancashire</td>\n",
       "      <td>0</td>\n",
       "      <td>1</td>\n",
       "      <td>0</td>\n",
       "      <td>20.0</td>\n",
       "      <td>34</td>\n",
       "      <td>2</td>\n",
       "      <td>0</td>\n",
       "      <td>No</td>\n",
       "      <td>0.68</td>\n",
       "    </tr>\n",
       "    <tr>\n",
       "      <th>1</th>\n",
       "      <td>Female</td>\n",
       "      <td>Essex</td>\n",
       "      <td>0</td>\n",
       "      <td>1</td>\n",
       "      <td>0</td>\n",
       "      <td>4.0</td>\n",
       "      <td>26</td>\n",
       "      <td>1</td>\n",
       "      <td>5</td>\n",
       "      <td>No</td>\n",
       "      <td>0.52</td>\n",
       "    </tr>\n",
       "    <tr>\n",
       "      <th>2</th>\n",
       "      <td>Female</td>\n",
       "      <td>Essex</td>\n",
       "      <td>0</td>\n",
       "      <td>Unknown</td>\n",
       "      <td>1</td>\n",
       "      <td>9.0</td>\n",
       "      <td>34</td>\n",
       "      <td>2</td>\n",
       "      <td>0</td>\n",
       "      <td>No</td>\n",
       "      <td>0.68</td>\n",
       "    </tr>\n",
       "    <tr>\n",
       "      <th>3</th>\n",
       "      <td>Male</td>\n",
       "      <td>West Yorkshire</td>\n",
       "      <td>1</td>\n",
       "      <td>1</td>\n",
       "      <td>1</td>\n",
       "      <td>9.0</td>\n",
       "      <td>44</td>\n",
       "      <td>4</td>\n",
       "      <td>9</td>\n",
       "      <td>No</td>\n",
       "      <td>0.88</td>\n",
       "    </tr>\n",
       "    <tr>\n",
       "      <th>4</th>\n",
       "      <td>Male</td>\n",
       "      <td>Greater Manchester</td>\n",
       "      <td>0</td>\n",
       "      <td>1</td>\n",
       "      <td>0</td>\n",
       "      <td>6.0</td>\n",
       "      <td>34</td>\n",
       "      <td>2</td>\n",
       "      <td>5</td>\n",
       "      <td>No</td>\n",
       "      <td>0.68</td>\n",
       "    </tr>\n",
       "    <tr>\n",
       "      <th>5</th>\n",
       "      <td>Male</td>\n",
       "      <td>Greater Manchester</td>\n",
       "      <td>1</td>\n",
       "      <td>0</td>\n",
       "      <td>0</td>\n",
       "      <td>1.0</td>\n",
       "      <td>34</td>\n",
       "      <td>2</td>\n",
       "      <td>2</td>\n",
       "      <td>Yes</td>\n",
       "      <td>0.68</td>\n",
       "    </tr>\n",
       "    <tr>\n",
       "      <th>6</th>\n",
       "      <td>Female</td>\n",
       "      <td>West Midlands</td>\n",
       "      <td>1</td>\n",
       "      <td>1</td>\n",
       "      <td>0</td>\n",
       "      <td>8.0</td>\n",
       "      <td>26</td>\n",
       "      <td>1</td>\n",
       "      <td>8</td>\n",
       "      <td>No</td>\n",
       "      <td>0.52</td>\n",
       "    </tr>\n",
       "    <tr>\n",
       "      <th>7</th>\n",
       "      <td>Female</td>\n",
       "      <td>Greater London</td>\n",
       "      <td>1</td>\n",
       "      <td>1</td>\n",
       "      <td>0</td>\n",
       "      <td>10.0</td>\n",
       "      <td>44</td>\n",
       "      <td>4</td>\n",
       "      <td>9</td>\n",
       "      <td>No</td>\n",
       "      <td>0.88</td>\n",
       "    </tr>\n",
       "    <tr>\n",
       "      <th>8</th>\n",
       "      <td>Female</td>\n",
       "      <td>Greater Manchester</td>\n",
       "      <td>1</td>\n",
       "      <td>1</td>\n",
       "      <td>0</td>\n",
       "      <td>22.0</td>\n",
       "      <td>44</td>\n",
       "      <td>4</td>\n",
       "      <td>8</td>\n",
       "      <td>No</td>\n",
       "      <td>0.88</td>\n",
       "    </tr>\n",
       "    <tr>\n",
       "      <th>9</th>\n",
       "      <td>Female</td>\n",
       "      <td>Merseyside</td>\n",
       "      <td>1</td>\n",
       "      <td>1</td>\n",
       "      <td>0</td>\n",
       "      <td>6.0</td>\n",
       "      <td>44</td>\n",
       "      <td>4</td>\n",
       "      <td>7</td>\n",
       "      <td>No</td>\n",
       "      <td>0.88</td>\n",
       "    </tr>\n",
       "    <tr>\n",
       "      <th>10</th>\n",
       "      <td>Female</td>\n",
       "      <td>Hertfordshire</td>\n",
       "      <td>1</td>\n",
       "      <td>1</td>\n",
       "      <td>0</td>\n",
       "      <td>0.0</td>\n",
       "      <td>44</td>\n",
       "      <td>4</td>\n",
       "      <td>6</td>\n",
       "      <td>Yes</td>\n",
       "      <td>0.88</td>\n",
       "    </tr>\n",
       "    <tr>\n",
       "      <th>11</th>\n",
       "      <td>Male</td>\n",
       "      <td>Greater London</td>\n",
       "      <td>0</td>\n",
       "      <td>Unknown</td>\n",
       "      <td>0</td>\n",
       "      <td>2.0</td>\n",
       "      <td>34</td>\n",
       "      <td>2</td>\n",
       "      <td>1</td>\n",
       "      <td>Yes</td>\n",
       "      <td>0.68</td>\n",
       "    </tr>\n",
       "    <tr>\n",
       "      <th>12</th>\n",
       "      <td>Male</td>\n",
       "      <td>Devon</td>\n",
       "      <td>1</td>\n",
       "      <td>Unknown</td>\n",
       "      <td>0</td>\n",
       "      <td>8.0</td>\n",
       "      <td>44</td>\n",
       "      <td>4</td>\n",
       "      <td>7</td>\n",
       "      <td>No</td>\n",
       "      <td>0.88</td>\n",
       "    </tr>\n",
       "    <tr>\n",
       "      <th>13</th>\n",
       "      <td>Female</td>\n",
       "      <td>Greater London</td>\n",
       "      <td>0</td>\n",
       "      <td>0</td>\n",
       "      <td>1</td>\n",
       "      <td>7.0</td>\n",
       "      <td>34</td>\n",
       "      <td>2</td>\n",
       "      <td>6</td>\n",
       "      <td>Yes</td>\n",
       "      <td>0.68</td>\n",
       "    </tr>\n",
       "    <tr>\n",
       "      <th>14</th>\n",
       "      <td>Female</td>\n",
       "      <td>Lancashire</td>\n",
       "      <td>1</td>\n",
       "      <td>0</td>\n",
       "      <td>0</td>\n",
       "      <td>3.0</td>\n",
       "      <td>40</td>\n",
       "      <td>3</td>\n",
       "      <td>1</td>\n",
       "      <td>Yes</td>\n",
       "      <td>0.80</td>\n",
       "    </tr>\n",
       "    <tr>\n",
       "      <th>15</th>\n",
       "      <td>Male</td>\n",
       "      <td>West Midlands</td>\n",
       "      <td>0</td>\n",
       "      <td>0</td>\n",
       "      <td>1</td>\n",
       "      <td>11.0</td>\n",
       "      <td>34</td>\n",
       "      <td>2</td>\n",
       "      <td>No reply</td>\n",
       "      <td>Yes</td>\n",
       "      <td>0.68</td>\n",
       "    </tr>\n",
       "    <tr>\n",
       "      <th>16</th>\n",
       "      <td>Female</td>\n",
       "      <td>West Midlands</td>\n",
       "      <td>0</td>\n",
       "      <td>0</td>\n",
       "      <td>0</td>\n",
       "      <td>3.0</td>\n",
       "      <td>26</td>\n",
       "      <td>1</td>\n",
       "      <td>1</td>\n",
       "      <td>Yes</td>\n",
       "      <td>0.52</td>\n",
       "    </tr>\n",
       "    <tr>\n",
       "      <th>17</th>\n",
       "      <td>Male</td>\n",
       "      <td>Lancashire</td>\n",
       "      <td>1</td>\n",
       "      <td>Unknown</td>\n",
       "      <td>0</td>\n",
       "      <td>2.0</td>\n",
       "      <td>44</td>\n",
       "      <td>4</td>\n",
       "      <td>8</td>\n",
       "      <td>No</td>\n",
       "      <td>0.88</td>\n",
       "    </tr>\n",
       "    <tr>\n",
       "      <th>18</th>\n",
       "      <td>Female</td>\n",
       "      <td>North Yorkshire</td>\n",
       "      <td>0</td>\n",
       "      <td>1</td>\n",
       "      <td>0</td>\n",
       "      <td>23.0</td>\n",
       "      <td>40</td>\n",
       "      <td>3</td>\n",
       "      <td>No reply</td>\n",
       "      <td>No</td>\n",
       "      <td>0.80</td>\n",
       "    </tr>\n",
       "    <tr>\n",
       "      <th>19</th>\n",
       "      <td>Female</td>\n",
       "      <td>Lancashire</td>\n",
       "      <td>0</td>\n",
       "      <td>1</td>\n",
       "      <td>0</td>\n",
       "      <td>17.0</td>\n",
       "      <td>26</td>\n",
       "      <td>1</td>\n",
       "      <td>4</td>\n",
       "      <td>No</td>\n",
       "      <td>0.52</td>\n",
       "    </tr>\n",
       "  </tbody>\n",
       "</table>\n",
       "</div>"
      ],
      "text/plain": [
       "    gender            location  partner dependents  senior  Tenure  \\\n",
       "0   Female          Lancashire        0          1       0    20.0   \n",
       "1   Female               Essex        0          1       0     4.0   \n",
       "2   Female               Essex        0    Unknown       1     9.0   \n",
       "3     Male      West Yorkshire        1          1       1     9.0   \n",
       "4     Male  Greater Manchester        0          1       0     6.0   \n",
       "5     Male  Greater Manchester        1          0       0     1.0   \n",
       "6   Female       West Midlands        1          1       0     8.0   \n",
       "7   Female      Greater London        1          1       0    10.0   \n",
       "8   Female  Greater Manchester        1          1       0    22.0   \n",
       "9   Female          Merseyside        1          1       0     6.0   \n",
       "10  Female       Hertfordshire        1          1       0     0.0   \n",
       "11    Male      Greater London        0    Unknown       0     2.0   \n",
       "12    Male               Devon        1    Unknown       0     8.0   \n",
       "13  Female      Greater London        0          0       1     7.0   \n",
       "14  Female          Lancashire        1          0       0     3.0   \n",
       "15    Male       West Midlands        0          0       1    11.0   \n",
       "16  Female       West Midlands        0          0       0     3.0   \n",
       "17    Male          Lancashire        1    Unknown       0     2.0   \n",
       "18  Female     North Yorkshire        0          1       0    23.0   \n",
       "19  Female          Lancashire        0          1       0    17.0   \n",
       "\n",
       "    monthly_cost  package    survey Class  2%_discount  \n",
       "0             34        2         0    No         0.68  \n",
       "1             26        1         5    No         0.52  \n",
       "2             34        2         0    No         0.68  \n",
       "3             44        4         9    No         0.88  \n",
       "4             34        2         5    No         0.68  \n",
       "5             34        2         2   Yes         0.68  \n",
       "6             26        1         8    No         0.52  \n",
       "7             44        4         9    No         0.88  \n",
       "8             44        4         8    No         0.88  \n",
       "9             44        4         7    No         0.88  \n",
       "10            44        4         6   Yes         0.88  \n",
       "11            34        2         1   Yes         0.68  \n",
       "12            44        4         7    No         0.88  \n",
       "13            34        2         6   Yes         0.68  \n",
       "14            40        3         1   Yes         0.80  \n",
       "15            34        2  No reply   Yes         0.68  \n",
       "16            26        1         1   Yes         0.52  \n",
       "17            44        4         8    No         0.88  \n",
       "18            40        3  No reply    No         0.80  \n",
       "19            26        1         4    No         0.52  "
      ]
     },
     "execution_count": 24,
     "metadata": {},
     "output_type": "execute_result"
    }
   ],
   "source": [
    "#Let's visualise the data to see the changes we have made\n",
    "\n",
    "churn_df.head(20)"
   ]
  },
  {
   "cell_type": "markdown",
   "id": "db330a62",
   "metadata": {},
   "source": [
    "Let's replace all the \"unknown\" values in dependents column with nan"
   ]
  },
  {
   "cell_type": "code",
   "execution_count": 25,
   "id": "f867cfe2",
   "metadata": {},
   "outputs": [],
   "source": [
    "# Let's replace all the \"unknown\" values in dependents column with nan\n",
    "\n",
    "churn_df['dependents'].replace('Unknown', np.nan, inplace = True)"
   ]
  },
  {
   "cell_type": "code",
   "execution_count": 26,
   "id": "fa01c50a",
   "metadata": {},
   "outputs": [],
   "source": [
    "# Let's replace all the \"no reply\" values in the survey column with nan\n",
    "\n",
    "churn_df['survey'].replace('No reply', np.nan, inplace = True)"
   ]
  },
  {
   "cell_type": "code",
   "execution_count": 27,
   "id": "18f4572d",
   "metadata": {},
   "outputs": [
    {
     "data": {
      "text/plain": [
       "gender             0\n",
       "location           0\n",
       "partner            0\n",
       "dependents      2208\n",
       "senior             0\n",
       "Tenure             0\n",
       "monthly_cost       0\n",
       "package            0\n",
       "survey           597\n",
       "Class             59\n",
       "2%_discount       19\n",
       "dtype: int64"
      ]
     },
     "execution_count": 27,
     "metadata": {},
     "output_type": "execute_result"
    }
   ],
   "source": [
    "churn_df.isnull().sum()"
   ]
  },
  {
   "cell_type": "code",
   "execution_count": 28,
   "id": "9f84d1b2",
   "metadata": {},
   "outputs": [
    {
     "data": {
      "text/plain": [
       "1    3531\n",
       "0    1611\n",
       "Name: dependents, dtype: int64"
      ]
     },
     "execution_count": 28,
     "metadata": {},
     "output_type": "execute_result"
    }
   ],
   "source": [
    "churn_df['dependents'].value_counts()"
   ]
  },
  {
   "cell_type": "code",
   "execution_count": 29,
   "id": "92770b9b",
   "metadata": {},
   "outputs": [],
   "source": [
    "# To fill in the null values in \"dependents column\" let's fill the null with the predominant category in the dependents column\n",
    "\n",
    "churn_df.fillna({'dependents': 1}, inplace = True)"
   ]
  },
  {
   "cell_type": "code",
   "execution_count": 30,
   "id": "3dcf53f4",
   "metadata": {},
   "outputs": [
    {
     "data": {
      "text/html": [
       "<div>\n",
       "<style scoped>\n",
       "    .dataframe tbody tr th:only-of-type {\n",
       "        vertical-align: middle;\n",
       "    }\n",
       "\n",
       "    .dataframe tbody tr th {\n",
       "        vertical-align: top;\n",
       "    }\n",
       "\n",
       "    .dataframe thead th {\n",
       "        text-align: right;\n",
       "    }\n",
       "</style>\n",
       "<table border=\"1\" class=\"dataframe\">\n",
       "  <thead>\n",
       "    <tr style=\"text-align: right;\">\n",
       "      <th></th>\n",
       "      <th>gender</th>\n",
       "      <th>location</th>\n",
       "      <th>partner</th>\n",
       "      <th>dependents</th>\n",
       "      <th>senior</th>\n",
       "      <th>Tenure</th>\n",
       "      <th>monthly_cost</th>\n",
       "      <th>package</th>\n",
       "      <th>survey</th>\n",
       "      <th>Class</th>\n",
       "      <th>2%_discount</th>\n",
       "    </tr>\n",
       "  </thead>\n",
       "  <tbody>\n",
       "    <tr>\n",
       "      <th>0</th>\n",
       "      <td>Female</td>\n",
       "      <td>Lancashire</td>\n",
       "      <td>0</td>\n",
       "      <td>1</td>\n",
       "      <td>0</td>\n",
       "      <td>20.0</td>\n",
       "      <td>34</td>\n",
       "      <td>2</td>\n",
       "      <td>0</td>\n",
       "      <td>No</td>\n",
       "      <td>0.68</td>\n",
       "    </tr>\n",
       "    <tr>\n",
       "      <th>1</th>\n",
       "      <td>Female</td>\n",
       "      <td>Essex</td>\n",
       "      <td>0</td>\n",
       "      <td>1</td>\n",
       "      <td>0</td>\n",
       "      <td>4.0</td>\n",
       "      <td>26</td>\n",
       "      <td>1</td>\n",
       "      <td>5</td>\n",
       "      <td>No</td>\n",
       "      <td>0.52</td>\n",
       "    </tr>\n",
       "    <tr>\n",
       "      <th>2</th>\n",
       "      <td>Female</td>\n",
       "      <td>Essex</td>\n",
       "      <td>0</td>\n",
       "      <td>1</td>\n",
       "      <td>1</td>\n",
       "      <td>9.0</td>\n",
       "      <td>34</td>\n",
       "      <td>2</td>\n",
       "      <td>0</td>\n",
       "      <td>No</td>\n",
       "      <td>0.68</td>\n",
       "    </tr>\n",
       "    <tr>\n",
       "      <th>3</th>\n",
       "      <td>Male</td>\n",
       "      <td>West Yorkshire</td>\n",
       "      <td>1</td>\n",
       "      <td>1</td>\n",
       "      <td>1</td>\n",
       "      <td>9.0</td>\n",
       "      <td>44</td>\n",
       "      <td>4</td>\n",
       "      <td>9</td>\n",
       "      <td>No</td>\n",
       "      <td>0.88</td>\n",
       "    </tr>\n",
       "    <tr>\n",
       "      <th>4</th>\n",
       "      <td>Male</td>\n",
       "      <td>Greater Manchester</td>\n",
       "      <td>0</td>\n",
       "      <td>1</td>\n",
       "      <td>0</td>\n",
       "      <td>6.0</td>\n",
       "      <td>34</td>\n",
       "      <td>2</td>\n",
       "      <td>5</td>\n",
       "      <td>No</td>\n",
       "      <td>0.68</td>\n",
       "    </tr>\n",
       "  </tbody>\n",
       "</table>\n",
       "</div>"
      ],
      "text/plain": [
       "   gender            location  partner dependents  senior  Tenure  \\\n",
       "0  Female          Lancashire        0          1       0    20.0   \n",
       "1  Female               Essex        0          1       0     4.0   \n",
       "2  Female               Essex        0          1       1     9.0   \n",
       "3    Male      West Yorkshire        1          1       1     9.0   \n",
       "4    Male  Greater Manchester        0          1       0     6.0   \n",
       "\n",
       "   monthly_cost  package survey Class  2%_discount  \n",
       "0            34        2      0    No         0.68  \n",
       "1            26        1      5    No         0.52  \n",
       "2            34        2      0    No         0.68  \n",
       "3            44        4      9    No         0.88  \n",
       "4            34        2      5    No         0.68  "
      ]
     },
     "execution_count": 30,
     "metadata": {},
     "output_type": "execute_result"
    }
   ],
   "source": [
    "churn_df.head()"
   ]
  },
  {
   "cell_type": "code",
   "execution_count": 31,
   "id": "161f8e20",
   "metadata": {},
   "outputs": [
    {
     "data": {
      "text/plain": [
       "6     1187\n",
       "7     1003\n",
       "5      921\n",
       "2      742\n",
       "4      676\n",
       "1      628\n",
       "3      617\n",
       "8      541\n",
       "0      217\n",
       "9      192\n",
       "10      29\n",
       "Name: survey, dtype: int64"
      ]
     },
     "execution_count": 31,
     "metadata": {},
     "output_type": "execute_result"
    }
   ],
   "source": [
    "churn_df['survey'].value_counts()"
   ]
  },
  {
   "cell_type": "code",
   "execution_count": 32,
   "id": "15026293",
   "metadata": {},
   "outputs": [],
   "source": [
    "# To fill in the null values in \"survey column\" let's fill the null with the predominant category in the dependents column\n",
    "\n",
    "churn_df.fillna({'survey': 1}, inplace = True)"
   ]
  },
  {
   "cell_type": "code",
   "execution_count": 33,
   "id": "c6e0d924",
   "metadata": {},
   "outputs": [
    {
     "data": {
      "text/plain": [
       "gender           0\n",
       "location         0\n",
       "partner          0\n",
       "dependents       0\n",
       "senior           0\n",
       "Tenure           0\n",
       "monthly_cost     0\n",
       "package          0\n",
       "survey           0\n",
       "Class           59\n",
       "2%_discount     19\n",
       "dtype: int64"
      ]
     },
     "execution_count": 33,
     "metadata": {},
     "output_type": "execute_result"
    }
   ],
   "source": [
    "churn_df.isnull().sum()"
   ]
  },
  {
   "cell_type": "markdown",
   "id": "ac5d5430",
   "metadata": {},
   "source": [
    "In the column called \"Class\" we have 59 rows with null values. this is an insignificant number so for this reason we drop the rows with null values in the Class column.\n"
   ]
  },
  {
   "cell_type": "code",
   "execution_count": 34,
   "id": "1aecd6a5",
   "metadata": {},
   "outputs": [],
   "source": [
    "# In the column called \"Class\" we have 59 rows with null values. this is an insignificant number so for this reason we drop the rows with null values in the Class column\n",
    "\n",
    "churn_df.dropna(subset = ['Class'], inplace = True)"
   ]
  },
  {
   "cell_type": "markdown",
   "id": "501ad8d9",
   "metadata": {},
   "source": [
    "In the column called \"2%_ discount\" we have 59 rows with null values. this is an insignificant number so for this reason we drop the rows with null values in the Class column.\n"
   ]
  },
  {
   "cell_type": "code",
   "execution_count": 35,
   "id": "8dde4caf",
   "metadata": {},
   "outputs": [],
   "source": [
    "churn_df.dropna(subset = ['2%_discount'], inplace = True)"
   ]
  },
  {
   "cell_type": "markdown",
   "id": "5e7b08f5",
   "metadata": {},
   "source": [
    " Let's review our data to see if we still have null values"
   ]
  },
  {
   "cell_type": "code",
   "execution_count": 36,
   "id": "f42cda15",
   "metadata": {},
   "outputs": [
    {
     "data": {
      "text/plain": [
       "gender          0\n",
       "location        0\n",
       "partner         0\n",
       "dependents      0\n",
       "senior          0\n",
       "Tenure          0\n",
       "monthly_cost    0\n",
       "package         0\n",
       "survey          0\n",
       "Class           0\n",
       "2%_discount     0\n",
       "dtype: int64"
      ]
     },
     "execution_count": 36,
     "metadata": {},
     "output_type": "execute_result"
    }
   ],
   "source": [
    "# Let's review our data to see if we still have null values\n",
    "churn_df.isnull().sum()"
   ]
  },
  {
   "cell_type": "markdown",
   "id": "9fa5fc6a",
   "metadata": {},
   "source": [
    "Now let's change the data type of \"dependent\" and \"survey\" from object to interger"
   ]
  },
  {
   "cell_type": "code",
   "execution_count": 37,
   "id": "6bde78ca",
   "metadata": {},
   "outputs": [
    {
     "data": {
      "text/plain": [
       "gender           object\n",
       "location         object\n",
       "partner           int64\n",
       "dependents       object\n",
       "senior            int64\n",
       "Tenure          float64\n",
       "monthly_cost      int32\n",
       "package           int64\n",
       "survey           object\n",
       "Class            object\n",
       "2%_discount     float64\n",
       "dtype: object"
      ]
     },
     "execution_count": 37,
     "metadata": {},
     "output_type": "execute_result"
    }
   ],
   "source": [
    "churn_df.dtypes"
   ]
  },
  {
   "cell_type": "code",
   "execution_count": 38,
   "id": "d133da84",
   "metadata": {},
   "outputs": [],
   "source": [
    "# Now let's change the data type of \"dependent\" and \"survey\" from object to interger\n",
    "\n",
    "churn_df['dependents'] = churn_df['dependents'].astype(int)\n",
    "churn_df['survey'] = churn_df['survey'].astype(int)"
   ]
  },
  {
   "cell_type": "code",
   "execution_count": 39,
   "id": "4cea5609",
   "metadata": {
    "scrolled": true
   },
   "outputs": [
    {
     "data": {
      "text/plain": [
       "Greater London        2323\n",
       "West Midlands          627\n",
       "Greater Manchester     590\n",
       "West Yorkshire         496\n",
       "Kent                   418\n",
       "Essex                  404\n",
       "Hampshire              389\n",
       "Lancashire             355\n",
       "Merseyside             315\n",
       "South Yorkshire        314\n",
       "Hertfordshire          272\n",
       "Devon                  258\n",
       "North Yorkshire        253\n",
       "Surrey                 230\n",
       "Tyne and Wear           13\n",
       "Staffordshire            9\n",
       "Nottinghamshire          6\n",
       "Name: location, dtype: int64"
      ]
     },
     "execution_count": 39,
     "metadata": {},
     "output_type": "execute_result"
    }
   ],
   "source": [
    "churn_df.location.value_counts()"
   ]
  },
  {
   "cell_type": "code",
   "execution_count": 40,
   "id": "3ee885d3",
   "metadata": {},
   "outputs": [
    {
     "data": {
      "text/plain": [
       "gender           object\n",
       "location         object\n",
       "partner           int64\n",
       "dependents        int32\n",
       "senior            int64\n",
       "Tenure          float64\n",
       "monthly_cost      int32\n",
       "package           int64\n",
       "survey            int32\n",
       "Class            object\n",
       "2%_discount     float64\n",
       "dtype: object"
      ]
     },
     "execution_count": 40,
     "metadata": {},
     "output_type": "execute_result"
    }
   ],
   "source": [
    "churn_df.dtypes"
   ]
  },
  {
   "cell_type": "markdown",
   "id": "9a40f5f3",
   "metadata": {},
   "source": [
    "Convert the target variable 'Class' in a binary numeric variable i.e. Yes=1 ; No = 0"
   ]
  },
  {
   "cell_type": "code",
   "execution_count": 41,
   "id": "c6149769",
   "metadata": {},
   "outputs": [],
   "source": [
    "churn_df['Class'] = np.where(churn_df.Class == 'Yes',1,0)"
   ]
  },
  {
   "cell_type": "code",
   "execution_count": 42,
   "id": "95470a3a",
   "metadata": {},
   "outputs": [
    {
     "data": {
      "text/plain": [
       "0    5167\n",
       "1    2105\n",
       "Name: Class, dtype: int64"
      ]
     },
     "execution_count": 42,
     "metadata": {},
     "output_type": "execute_result"
    }
   ],
   "source": [
    "churn_df['Class'].value_counts()"
   ]
  },
  {
   "cell_type": "code",
   "execution_count": 43,
   "id": "3420e2cd",
   "metadata": {
    "scrolled": true
   },
   "outputs": [
    {
     "data": {
      "text/html": [
       "<div>\n",
       "<style scoped>\n",
       "    .dataframe tbody tr th:only-of-type {\n",
       "        vertical-align: middle;\n",
       "    }\n",
       "\n",
       "    .dataframe tbody tr th {\n",
       "        vertical-align: top;\n",
       "    }\n",
       "\n",
       "    .dataframe thead th {\n",
       "        text-align: right;\n",
       "    }\n",
       "</style>\n",
       "<table border=\"1\" class=\"dataframe\">\n",
       "  <thead>\n",
       "    <tr style=\"text-align: right;\">\n",
       "      <th></th>\n",
       "      <th>partner</th>\n",
       "      <th>dependents</th>\n",
       "      <th>senior</th>\n",
       "      <th>Tenure</th>\n",
       "      <th>monthly_cost</th>\n",
       "      <th>package</th>\n",
       "      <th>survey</th>\n",
       "      <th>Class</th>\n",
       "      <th>2%_discount</th>\n",
       "    </tr>\n",
       "  </thead>\n",
       "  <tbody>\n",
       "    <tr>\n",
       "      <th>count</th>\n",
       "      <td>7272.000000</td>\n",
       "      <td>7272.000000</td>\n",
       "      <td>7272.000000</td>\n",
       "      <td>7272.000000</td>\n",
       "      <td>7272.000000</td>\n",
       "      <td>7272.000000</td>\n",
       "      <td>7272.000000</td>\n",
       "      <td>7272.000000</td>\n",
       "      <td>7272.000000</td>\n",
       "    </tr>\n",
       "    <tr>\n",
       "      <th>mean</th>\n",
       "      <td>0.546205</td>\n",
       "      <td>0.778878</td>\n",
       "      <td>0.168454</td>\n",
       "      <td>8.604897</td>\n",
       "      <td>35.135039</td>\n",
       "      <td>2.375688</td>\n",
       "      <td>4.394664</td>\n",
       "      <td>0.289466</td>\n",
       "      <td>0.702701</td>\n",
       "    </tr>\n",
       "    <tr>\n",
       "      <th>std</th>\n",
       "      <td>0.497895</td>\n",
       "      <td>0.415031</td>\n",
       "      <td>0.374295</td>\n",
       "      <td>6.255771</td>\n",
       "      <td>7.029609</td>\n",
       "      <td>1.163537</td>\n",
       "      <td>2.505264</td>\n",
       "      <td>0.453546</td>\n",
       "      <td>0.140592</td>\n",
       "    </tr>\n",
       "    <tr>\n",
       "      <th>min</th>\n",
       "      <td>0.000000</td>\n",
       "      <td>0.000000</td>\n",
       "      <td>0.000000</td>\n",
       "      <td>-5.196152</td>\n",
       "      <td>26.000000</td>\n",
       "      <td>1.000000</td>\n",
       "      <td>0.000000</td>\n",
       "      <td>0.000000</td>\n",
       "      <td>0.520000</td>\n",
       "    </tr>\n",
       "    <tr>\n",
       "      <th>25%</th>\n",
       "      <td>0.000000</td>\n",
       "      <td>1.000000</td>\n",
       "      <td>0.000000</td>\n",
       "      <td>3.000000</td>\n",
       "      <td>26.000000</td>\n",
       "      <td>1.000000</td>\n",
       "      <td>2.000000</td>\n",
       "      <td>0.000000</td>\n",
       "      <td>0.520000</td>\n",
       "    </tr>\n",
       "    <tr>\n",
       "      <th>50%</th>\n",
       "      <td>1.000000</td>\n",
       "      <td>1.000000</td>\n",
       "      <td>0.000000</td>\n",
       "      <td>9.000000</td>\n",
       "      <td>34.000000</td>\n",
       "      <td>2.000000</td>\n",
       "      <td>5.000000</td>\n",
       "      <td>0.000000</td>\n",
       "      <td>0.680000</td>\n",
       "    </tr>\n",
       "    <tr>\n",
       "      <th>75%</th>\n",
       "      <td>1.000000</td>\n",
       "      <td>1.000000</td>\n",
       "      <td>0.000000</td>\n",
       "      <td>13.000000</td>\n",
       "      <td>44.000000</td>\n",
       "      <td>4.000000</td>\n",
       "      <td>6.000000</td>\n",
       "      <td>1.000000</td>\n",
       "      <td>0.880000</td>\n",
       "    </tr>\n",
       "    <tr>\n",
       "      <th>max</th>\n",
       "      <td>1.000000</td>\n",
       "      <td>1.000000</td>\n",
       "      <td>1.000000</td>\n",
       "      <td>25.000000</td>\n",
       "      <td>44.000000</td>\n",
       "      <td>4.000000</td>\n",
       "      <td>10.000000</td>\n",
       "      <td>1.000000</td>\n",
       "      <td>0.880000</td>\n",
       "    </tr>\n",
       "  </tbody>\n",
       "</table>\n",
       "</div>"
      ],
      "text/plain": [
       "           partner   dependents       senior       Tenure  monthly_cost  \\\n",
       "count  7272.000000  7272.000000  7272.000000  7272.000000   7272.000000   \n",
       "mean      0.546205     0.778878     0.168454     8.604897     35.135039   \n",
       "std       0.497895     0.415031     0.374295     6.255771      7.029609   \n",
       "min       0.000000     0.000000     0.000000    -5.196152     26.000000   \n",
       "25%       0.000000     1.000000     0.000000     3.000000     26.000000   \n",
       "50%       1.000000     1.000000     0.000000     9.000000     34.000000   \n",
       "75%       1.000000     1.000000     0.000000    13.000000     44.000000   \n",
       "max       1.000000     1.000000     1.000000    25.000000     44.000000   \n",
       "\n",
       "           package       survey        Class  2%_discount  \n",
       "count  7272.000000  7272.000000  7272.000000  7272.000000  \n",
       "mean      2.375688     4.394664     0.289466     0.702701  \n",
       "std       1.163537     2.505264     0.453546     0.140592  \n",
       "min       1.000000     0.000000     0.000000     0.520000  \n",
       "25%       1.000000     2.000000     0.000000     0.520000  \n",
       "50%       2.000000     5.000000     0.000000     0.680000  \n",
       "75%       4.000000     6.000000     1.000000     0.880000  \n",
       "max       4.000000    10.000000     1.000000     0.880000  "
      ]
     },
     "execution_count": 43,
     "metadata": {},
     "output_type": "execute_result"
    }
   ],
   "source": [
    "churn_df.describe()"
   ]
  },
  {
   "cell_type": "code",
   "execution_count": 44,
   "id": "af922af5",
   "metadata": {},
   "outputs": [
    {
     "data": {
      "text/html": [
       "<div>\n",
       "<style scoped>\n",
       "    .dataframe tbody tr th:only-of-type {\n",
       "        vertical-align: middle;\n",
       "    }\n",
       "\n",
       "    .dataframe tbody tr th {\n",
       "        vertical-align: top;\n",
       "    }\n",
       "\n",
       "    .dataframe thead th {\n",
       "        text-align: right;\n",
       "    }\n",
       "</style>\n",
       "<table border=\"1\" class=\"dataframe\">\n",
       "  <thead>\n",
       "    <tr style=\"text-align: right;\">\n",
       "      <th></th>\n",
       "      <th>partner</th>\n",
       "      <th>dependents</th>\n",
       "      <th>senior</th>\n",
       "      <th>Tenure</th>\n",
       "      <th>monthly_cost</th>\n",
       "      <th>package</th>\n",
       "      <th>survey</th>\n",
       "      <th>Class</th>\n",
       "      <th>2%_discount</th>\n",
       "    </tr>\n",
       "  </thead>\n",
       "  <tbody>\n",
       "    <tr>\n",
       "      <th>partner</th>\n",
       "      <td>1.000000</td>\n",
       "      <td>0.178568</td>\n",
       "      <td>-0.048044</td>\n",
       "      <td>0.181576</td>\n",
       "      <td>0.545243</td>\n",
       "      <td>0.543600</td>\n",
       "      <td>0.168960</td>\n",
       "      <td>-0.287931</td>\n",
       "      <td>0.545243</td>\n",
       "    </tr>\n",
       "    <tr>\n",
       "      <th>dependents</th>\n",
       "      <td>0.178568</td>\n",
       "      <td>1.000000</td>\n",
       "      <td>-0.154161</td>\n",
       "      <td>0.252133</td>\n",
       "      <td>0.094806</td>\n",
       "      <td>0.101420</td>\n",
       "      <td>0.254576</td>\n",
       "      <td>-0.464350</td>\n",
       "      <td>0.094806</td>\n",
       "    </tr>\n",
       "    <tr>\n",
       "      <th>senior</th>\n",
       "      <td>-0.048044</td>\n",
       "      <td>-0.154161</td>\n",
       "      <td>1.000000</td>\n",
       "      <td>-0.036362</td>\n",
       "      <td>-0.065361</td>\n",
       "      <td>-0.122283</td>\n",
       "      <td>-0.024268</td>\n",
       "      <td>0.044886</td>\n",
       "      <td>-0.065361</td>\n",
       "    </tr>\n",
       "    <tr>\n",
       "      <th>Tenure</th>\n",
       "      <td>0.181576</td>\n",
       "      <td>0.252133</td>\n",
       "      <td>-0.036362</td>\n",
       "      <td>1.000000</td>\n",
       "      <td>0.125201</td>\n",
       "      <td>0.122812</td>\n",
       "      <td>0.241841</td>\n",
       "      <td>-0.438047</td>\n",
       "      <td>0.125201</td>\n",
       "    </tr>\n",
       "    <tr>\n",
       "      <th>monthly_cost</th>\n",
       "      <td>0.545243</td>\n",
       "      <td>0.094806</td>\n",
       "      <td>-0.065361</td>\n",
       "      <td>0.125201</td>\n",
       "      <td>1.000000</td>\n",
       "      <td>0.989979</td>\n",
       "      <td>0.122862</td>\n",
       "      <td>-0.205733</td>\n",
       "      <td>1.000000</td>\n",
       "    </tr>\n",
       "    <tr>\n",
       "      <th>package</th>\n",
       "      <td>0.543600</td>\n",
       "      <td>0.101420</td>\n",
       "      <td>-0.122283</td>\n",
       "      <td>0.122812</td>\n",
       "      <td>0.989979</td>\n",
       "      <td>1.000000</td>\n",
       "      <td>0.123652</td>\n",
       "      <td>-0.205842</td>\n",
       "      <td>0.989979</td>\n",
       "    </tr>\n",
       "    <tr>\n",
       "      <th>survey</th>\n",
       "      <td>0.168960</td>\n",
       "      <td>0.254576</td>\n",
       "      <td>-0.024268</td>\n",
       "      <td>0.241841</td>\n",
       "      <td>0.122862</td>\n",
       "      <td>0.123652</td>\n",
       "      <td>1.000000</td>\n",
       "      <td>-0.529888</td>\n",
       "      <td>0.122862</td>\n",
       "    </tr>\n",
       "    <tr>\n",
       "      <th>Class</th>\n",
       "      <td>-0.287931</td>\n",
       "      <td>-0.464350</td>\n",
       "      <td>0.044886</td>\n",
       "      <td>-0.438047</td>\n",
       "      <td>-0.205733</td>\n",
       "      <td>-0.205842</td>\n",
       "      <td>-0.529888</td>\n",
       "      <td>1.000000</td>\n",
       "      <td>-0.205733</td>\n",
       "    </tr>\n",
       "    <tr>\n",
       "      <th>2%_discount</th>\n",
       "      <td>0.545243</td>\n",
       "      <td>0.094806</td>\n",
       "      <td>-0.065361</td>\n",
       "      <td>0.125201</td>\n",
       "      <td>1.000000</td>\n",
       "      <td>0.989979</td>\n",
       "      <td>0.122862</td>\n",
       "      <td>-0.205733</td>\n",
       "      <td>1.000000</td>\n",
       "    </tr>\n",
       "  </tbody>\n",
       "</table>\n",
       "</div>"
      ],
      "text/plain": [
       "               partner  dependents    senior    Tenure  monthly_cost  \\\n",
       "partner       1.000000    0.178568 -0.048044  0.181576      0.545243   \n",
       "dependents    0.178568    1.000000 -0.154161  0.252133      0.094806   \n",
       "senior       -0.048044   -0.154161  1.000000 -0.036362     -0.065361   \n",
       "Tenure        0.181576    0.252133 -0.036362  1.000000      0.125201   \n",
       "monthly_cost  0.545243    0.094806 -0.065361  0.125201      1.000000   \n",
       "package       0.543600    0.101420 -0.122283  0.122812      0.989979   \n",
       "survey        0.168960    0.254576 -0.024268  0.241841      0.122862   \n",
       "Class        -0.287931   -0.464350  0.044886 -0.438047     -0.205733   \n",
       "2%_discount   0.545243    0.094806 -0.065361  0.125201      1.000000   \n",
       "\n",
       "               package    survey     Class  2%_discount  \n",
       "partner       0.543600  0.168960 -0.287931     0.545243  \n",
       "dependents    0.101420  0.254576 -0.464350     0.094806  \n",
       "senior       -0.122283 -0.024268  0.044886    -0.065361  \n",
       "Tenure        0.122812  0.241841 -0.438047     0.125201  \n",
       "monthly_cost  0.989979  0.122862 -0.205733     1.000000  \n",
       "package       1.000000  0.123652 -0.205842     0.989979  \n",
       "survey        0.123652  1.000000 -0.529888     0.122862  \n",
       "Class        -0.205842 -0.529888  1.000000    -0.205733  \n",
       "2%_discount   0.989979  0.122862 -0.205733     1.000000  "
      ]
     },
     "execution_count": 44,
     "metadata": {},
     "output_type": "execute_result"
    }
   ],
   "source": [
    "churn_df.corr()"
   ]
  },
  {
   "cell_type": "code",
   "execution_count": 45,
   "id": "37515b6d",
   "metadata": {},
   "outputs": [
    {
     "data": {
      "image/png": "[encoded data removed]",
      "text/plain": [
       "<Figure size 864x648 with 2 Axes>"
      ]
     },
     "metadata": {},
     "output_type": "display_data"
    }
   ],
   "source": [
    "plt.figure(figsize = (12, 9))\n",
    "s = sns.heatmap(churn_df.corr(),\n",
    "               annot = True,\n",
    "               cmap = 'RdBu',\n",
    "               vmin = -1,\n",
    "               vmax = 1)\n",
    "plt.title('Heatmap Correlation', fontsize = 14)\n",
    "s.set_yticklabels(s.get_yticklabels(), rotation = 0, fontsize = 13)\n",
    "s.set_xticklabels(s.get_xticklabels(), rotation = 90, fontsize = 13)\n",
    "plt.show()"
   ]
  },
  {
   "cell_type": "code",
   "execution_count": 46,
   "id": "65014809",
   "metadata": {},
   "outputs": [
    {
     "data": {
      "text/plain": [
       "0    5167\n",
       "1    2105\n",
       "Name: Class, dtype: int64"
      ]
     },
     "execution_count": 46,
     "metadata": {},
     "output_type": "execute_result"
    }
   ],
   "source": [
    "churn_df['Class'].value_counts()"
   ]
  },
  {
   "cell_type": "markdown",
   "id": "01e25b6a",
   "metadata": {},
   "source": [
    "Convert the variable feature 'gender' into a binary numeric variable i.e. Female=0 ; Male = 1"
   ]
  },
  {
   "cell_type": "code",
   "execution_count": 47,
   "id": "eb1df6db",
   "metadata": {},
   "outputs": [],
   "source": [
    "churn_df['gender'] = churn_df['gender'].map({'Female': 0, 'Male': 1})"
   ]
  },
  {
   "cell_type": "code",
   "execution_count": 48,
   "id": "578c3fbb",
   "metadata": {},
   "outputs": [
    {
     "data": {
      "text/html": [
       "<div>\n",
       "<style scoped>\n",
       "    .dataframe tbody tr th:only-of-type {\n",
       "        vertical-align: middle;\n",
       "    }\n",
       "\n",
       "    .dataframe tbody tr th {\n",
       "        vertical-align: top;\n",
       "    }\n",
       "\n",
       "    .dataframe thead th {\n",
       "        text-align: right;\n",
       "    }\n",
       "</style>\n",
       "<table border=\"1\" class=\"dataframe\">\n",
       "  <thead>\n",
       "    <tr style=\"text-align: right;\">\n",
       "      <th></th>\n",
       "      <th>gender</th>\n",
       "      <th>location</th>\n",
       "      <th>partner</th>\n",
       "      <th>dependents</th>\n",
       "      <th>senior</th>\n",
       "      <th>Tenure</th>\n",
       "      <th>monthly_cost</th>\n",
       "      <th>package</th>\n",
       "      <th>survey</th>\n",
       "      <th>Class</th>\n",
       "      <th>2%_discount</th>\n",
       "    </tr>\n",
       "  </thead>\n",
       "  <tbody>\n",
       "    <tr>\n",
       "      <th>0</th>\n",
       "      <td>0</td>\n",
       "      <td>Lancashire</td>\n",
       "      <td>0</td>\n",
       "      <td>1</td>\n",
       "      <td>0</td>\n",
       "      <td>20.0</td>\n",
       "      <td>34</td>\n",
       "      <td>2</td>\n",
       "      <td>0</td>\n",
       "      <td>0</td>\n",
       "      <td>0.68</td>\n",
       "    </tr>\n",
       "    <tr>\n",
       "      <th>1</th>\n",
       "      <td>0</td>\n",
       "      <td>Essex</td>\n",
       "      <td>0</td>\n",
       "      <td>1</td>\n",
       "      <td>0</td>\n",
       "      <td>4.0</td>\n",
       "      <td>26</td>\n",
       "      <td>1</td>\n",
       "      <td>5</td>\n",
       "      <td>0</td>\n",
       "      <td>0.52</td>\n",
       "    </tr>\n",
       "    <tr>\n",
       "      <th>2</th>\n",
       "      <td>0</td>\n",
       "      <td>Essex</td>\n",
       "      <td>0</td>\n",
       "      <td>1</td>\n",
       "      <td>1</td>\n",
       "      <td>9.0</td>\n",
       "      <td>34</td>\n",
       "      <td>2</td>\n",
       "      <td>0</td>\n",
       "      <td>0</td>\n",
       "      <td>0.68</td>\n",
       "    </tr>\n",
       "    <tr>\n",
       "      <th>3</th>\n",
       "      <td>1</td>\n",
       "      <td>West Yorkshire</td>\n",
       "      <td>1</td>\n",
       "      <td>1</td>\n",
       "      <td>1</td>\n",
       "      <td>9.0</td>\n",
       "      <td>44</td>\n",
       "      <td>4</td>\n",
       "      <td>9</td>\n",
       "      <td>0</td>\n",
       "      <td>0.88</td>\n",
       "    </tr>\n",
       "    <tr>\n",
       "      <th>4</th>\n",
       "      <td>1</td>\n",
       "      <td>Greater Manchester</td>\n",
       "      <td>0</td>\n",
       "      <td>1</td>\n",
       "      <td>0</td>\n",
       "      <td>6.0</td>\n",
       "      <td>34</td>\n",
       "      <td>2</td>\n",
       "      <td>5</td>\n",
       "      <td>0</td>\n",
       "      <td>0.68</td>\n",
       "    </tr>\n",
       "    <tr>\n",
       "      <th>...</th>\n",
       "      <td>...</td>\n",
       "      <td>...</td>\n",
       "      <td>...</td>\n",
       "      <td>...</td>\n",
       "      <td>...</td>\n",
       "      <td>...</td>\n",
       "      <td>...</td>\n",
       "      <td>...</td>\n",
       "      <td>...</td>\n",
       "      <td>...</td>\n",
       "      <td>...</td>\n",
       "    </tr>\n",
       "    <tr>\n",
       "      <th>7345</th>\n",
       "      <td>1</td>\n",
       "      <td>Hertfordshire</td>\n",
       "      <td>1</td>\n",
       "      <td>1</td>\n",
       "      <td>0</td>\n",
       "      <td>14.0</td>\n",
       "      <td>40</td>\n",
       "      <td>3</td>\n",
       "      <td>5</td>\n",
       "      <td>0</td>\n",
       "      <td>0.80</td>\n",
       "    </tr>\n",
       "    <tr>\n",
       "      <th>7346</th>\n",
       "      <td>0</td>\n",
       "      <td>West Midlands</td>\n",
       "      <td>0</td>\n",
       "      <td>1</td>\n",
       "      <td>0</td>\n",
       "      <td>17.0</td>\n",
       "      <td>40</td>\n",
       "      <td>3</td>\n",
       "      <td>6</td>\n",
       "      <td>0</td>\n",
       "      <td>0.80</td>\n",
       "    </tr>\n",
       "    <tr>\n",
       "      <th>7347</th>\n",
       "      <td>1</td>\n",
       "      <td>Greater London</td>\n",
       "      <td>1</td>\n",
       "      <td>0</td>\n",
       "      <td>0</td>\n",
       "      <td>1.0</td>\n",
       "      <td>44</td>\n",
       "      <td>4</td>\n",
       "      <td>1</td>\n",
       "      <td>1</td>\n",
       "      <td>0.88</td>\n",
       "    </tr>\n",
       "    <tr>\n",
       "      <th>7348</th>\n",
       "      <td>1</td>\n",
       "      <td>Greater London</td>\n",
       "      <td>1</td>\n",
       "      <td>1</td>\n",
       "      <td>1</td>\n",
       "      <td>13.0</td>\n",
       "      <td>40</td>\n",
       "      <td>3</td>\n",
       "      <td>3</td>\n",
       "      <td>1</td>\n",
       "      <td>0.80</td>\n",
       "    </tr>\n",
       "    <tr>\n",
       "      <th>7349</th>\n",
       "      <td>0</td>\n",
       "      <td>West Yorkshire</td>\n",
       "      <td>1</td>\n",
       "      <td>1</td>\n",
       "      <td>0</td>\n",
       "      <td>16.0</td>\n",
       "      <td>44</td>\n",
       "      <td>4</td>\n",
       "      <td>9</td>\n",
       "      <td>0</td>\n",
       "      <td>0.88</td>\n",
       "    </tr>\n",
       "  </tbody>\n",
       "</table>\n",
       "<p>7272 rows × 11 columns</p>\n",
       "</div>"
      ],
      "text/plain": [
       "      gender            location  partner  dependents  senior  Tenure  \\\n",
       "0          0          Lancashire        0           1       0    20.0   \n",
       "1          0               Essex        0           1       0     4.0   \n",
       "2          0               Essex        0           1       1     9.0   \n",
       "3          1      West Yorkshire        1           1       1     9.0   \n",
       "4          1  Greater Manchester        0           1       0     6.0   \n",
       "...      ...                 ...      ...         ...     ...     ...   \n",
       "7345       1       Hertfordshire        1           1       0    14.0   \n",
       "7346       0       West Midlands        0           1       0    17.0   \n",
       "7347       1      Greater London        1           0       0     1.0   \n",
       "7348       1      Greater London        1           1       1    13.0   \n",
       "7349       0      West Yorkshire        1           1       0    16.0   \n",
       "\n",
       "      monthly_cost  package  survey  Class  2%_discount  \n",
       "0               34        2       0      0         0.68  \n",
       "1               26        1       5      0         0.52  \n",
       "2               34        2       0      0         0.68  \n",
       "3               44        4       9      0         0.88  \n",
       "4               34        2       5      0         0.68  \n",
       "...            ...      ...     ...    ...          ...  \n",
       "7345            40        3       5      0         0.80  \n",
       "7346            40        3       6      0         0.80  \n",
       "7347            44        4       1      1         0.88  \n",
       "7348            40        3       3      1         0.80  \n",
       "7349            44        4       9      0         0.88  \n",
       "\n",
       "[7272 rows x 11 columns]"
      ]
     },
     "execution_count": 48,
     "metadata": {},
     "output_type": "execute_result"
    }
   ],
   "source": [
    "churn_df"
   ]
  },
  {
   "cell_type": "code",
   "execution_count": 49,
   "id": "9518cd46",
   "metadata": {},
   "outputs": [
    {
     "name": "stderr",
     "output_type": "stream",
     "text": [
      "C:\\Anaconda\\lib\\site-packages\\seaborn\\_decorators.py:36: FutureWarning: Pass the following variable as a keyword arg: x. From version 0.12, the only valid positional argument will be `data`, and passing other arguments without an explicit keyword will result in an error or misinterpretation.\n",
      "  warnings.warn(\n"
     ]
    },
    {
     "data": {
      "text/plain": [
       "<AxesSubplot:xlabel='Class', ylabel='count'>"
      ]
     },
     "execution_count": 49,
     "metadata": {},
     "output_type": "execute_result"
    },
    {
     "data": {
      "image/png": "[encoded data removed]",
      "text/plain": [
       "<Figure size 432x288 with 1 Axes>"
      ]
     },
     "metadata": {},
     "output_type": "display_data"
    }
   ],
   "source": [
    "# Visualizing the ratio of leaving customers(churn) to current customers\n",
    "\n",
    "sns.countplot(churn_df['Class'])"
   ]
  },
  {
   "cell_type": "code",
   "execution_count": 50,
   "id": "b708192e",
   "metadata": {},
   "outputs": [],
   "source": [
    "churn_df.drop('location', axis = 1, inplace = True)"
   ]
  },
  {
   "cell_type": "markdown",
   "id": "77618eb1",
   "metadata": {},
   "source": [
    "##### Separating our dependent variable(features) from the independent variables(features) "
   ]
  },
  {
   "cell_type": "code",
   "execution_count": 51,
   "id": "e219641f",
   "metadata": {},
   "outputs": [],
   "source": [
    "# Separating our dependent variable(features) from the independent variables(features) \n",
    "\n",
    "x = churn_df.drop('Class', axis = 1)\n",
    "y = churn_df['Class']"
   ]
  },
  {
   "cell_type": "markdown",
   "id": "4826c451",
   "metadata": {},
   "source": [
    "#### Splitting the dataset into training and test set"
   ]
  },
  {
   "cell_type": "code",
   "execution_count": 52,
   "id": "fb7b1188",
   "metadata": {},
   "outputs": [],
   "source": [
    "from sklearn.model_selection import train_test_split"
   ]
  },
  {
   "cell_type": "code",
   "execution_count": 53,
   "id": "9d9b4cbb",
   "metadata": {},
   "outputs": [],
   "source": [
    "x_train,x_test,y_train,y_test = train_test_split(x,y, test_size = 0.20, random_state = 42, stratify = y)"
   ]
  },
  {
   "cell_type": "markdown",
   "id": "dda3390d",
   "metadata": {},
   "source": [
    "#### Feature Scaling"
   ]
  },
  {
   "cell_type": "markdown",
   "id": "a53227dc",
   "metadata": {},
   "source": [
    "This is the process of transforming the features so that the values falls within thesame numerical range."
   ]
  },
  {
   "cell_type": "code",
   "execution_count": 54,
   "id": "bd77430a",
   "metadata": {},
   "outputs": [],
   "source": [
    "from sklearn.preprocessing import StandardScaler"
   ]
  },
  {
   "cell_type": "code",
   "execution_count": 55,
   "id": "ad01daab",
   "metadata": {},
   "outputs": [],
   "source": [
    "scaler = StandardScaler()"
   ]
  },
  {
   "cell_type": "code",
   "execution_count": 56,
   "id": "51cef2ae",
   "metadata": {},
   "outputs": [],
   "source": [
    "x_train = scaler.fit_transform(x_train)\n",
    "x_test = scaler.transform(x_test)"
   ]
  },
  {
   "cell_type": "markdown",
   "id": "774a7b4e",
   "metadata": {},
   "source": [
    "#### Logistic Regression"
   ]
  },
  {
   "cell_type": "code",
   "execution_count": 57,
   "id": "d4179bfb",
   "metadata": {},
   "outputs": [],
   "source": [
    "from sklearn.linear_model import LogisticRegression"
   ]
  },
  {
   "cell_type": "code",
   "execution_count": 58,
   "id": "f7e6b640",
   "metadata": {},
   "outputs": [],
   "source": [
    "log = LogisticRegression()"
   ]
  },
  {
   "cell_type": "code",
   "execution_count": 59,
   "id": "f72d13c4",
   "metadata": {},
   "outputs": [
    {
     "data": {
      "text/plain": [
       "LogisticRegression()"
      ]
     },
     "execution_count": 59,
     "metadata": {},
     "output_type": "execute_result"
    }
   ],
   "source": [
    "log.fit(x_train, y_train)"
   ]
  },
  {
   "cell_type": "code",
   "execution_count": 60,
   "id": "3b74d664",
   "metadata": {},
   "outputs": [],
   "source": [
    "y_pred1 = log.predict(x_test)"
   ]
  },
  {
   "cell_type": "code",
   "execution_count": 61,
   "id": "5c76ca46",
   "metadata": {},
   "outputs": [],
   "source": [
    "from sklearn.metrics import accuracy_score"
   ]
  },
  {
   "cell_type": "code",
   "execution_count": 62,
   "id": "9ac2f56f",
   "metadata": {},
   "outputs": [
    {
     "data": {
      "text/plain": [
       "0.8707903780068729"
      ]
     },
     "execution_count": 62,
     "metadata": {},
     "output_type": "execute_result"
    }
   ],
   "source": [
    "accuracy_score(y_test, y_pred1)"
   ]
  },
  {
   "cell_type": "code",
   "execution_count": 63,
   "id": "5a888370",
   "metadata": {},
   "outputs": [],
   "source": [
    "from sklearn.metrics import precision_score, recall_score, f1_score"
   ]
  },
  {
   "cell_type": "code",
   "execution_count": 64,
   "id": "b5fda006",
   "metadata": {},
   "outputs": [
    {
     "data": {
      "text/plain": [
       "0.804177545691906"
      ]
     },
     "execution_count": 64,
     "metadata": {},
     "output_type": "execute_result"
    }
   ],
   "source": [
    "precision_score(y_test, y_pred1)"
   ]
  },
  {
   "cell_type": "code",
   "execution_count": 65,
   "id": "57fc25b8",
   "metadata": {},
   "outputs": [
    {
     "data": {
      "text/plain": [
       "0.7315914489311164"
      ]
     },
     "execution_count": 65,
     "metadata": {},
     "output_type": "execute_result"
    }
   ],
   "source": [
    "recall_score(y_test, y_pred1)"
   ]
  },
  {
   "cell_type": "code",
   "execution_count": 66,
   "id": "55704303",
   "metadata": {},
   "outputs": [
    {
     "data": {
      "text/plain": [
       "0.7661691542288558"
      ]
     },
     "execution_count": 66,
     "metadata": {},
     "output_type": "execute_result"
    }
   ],
   "source": [
    "f1_score(y_test, y_pred1)"
   ]
  },
  {
   "cell_type": "markdown",
   "id": "4127371c",
   "metadata": {},
   "source": [
    "### Support Vector Classifier (SVC)"
   ]
  },
  {
   "cell_type": "code",
   "execution_count": 67,
   "id": "71726267",
   "metadata": {},
   "outputs": [],
   "source": [
    "from sklearn import svm"
   ]
  },
  {
   "cell_type": "code",
   "execution_count": 68,
   "id": "1dac0b1f",
   "metadata": {},
   "outputs": [],
   "source": [
    "svm = svm.SVC()"
   ]
  },
  {
   "cell_type": "code",
   "execution_count": 69,
   "id": "bf176199",
   "metadata": {},
   "outputs": [
    {
     "data": {
      "text/plain": [
       "SVC()"
      ]
     },
     "execution_count": 69,
     "metadata": {},
     "output_type": "execute_result"
    }
   ],
   "source": [
    "svm.fit(x_train, y_train)"
   ]
  },
  {
   "cell_type": "markdown",
   "id": "b41c5ec8",
   "metadata": {},
   "source": [
    "Now let's perform a prediction"
   ]
  },
  {
   "cell_type": "code",
   "execution_count": 70,
   "id": "d04da57d",
   "metadata": {},
   "outputs": [],
   "source": [
    "y_pred2 = svm.predict(x_test)"
   ]
  },
  {
   "cell_type": "code",
   "execution_count": 71,
   "id": "098ef7e8",
   "metadata": {},
   "outputs": [
    {
     "data": {
      "text/plain": [
       "0.90446735395189"
      ]
     },
     "execution_count": 71,
     "metadata": {},
     "output_type": "execute_result"
    }
   ],
   "source": [
    "accuracy_score(y_test, y_pred2)"
   ]
  },
  {
   "cell_type": "code",
   "execution_count": 72,
   "id": "2eedfb03",
   "metadata": {},
   "outputs": [
    {
     "data": {
      "text/plain": [
       "0.8810810810810811"
      ]
     },
     "execution_count": 72,
     "metadata": {},
     "output_type": "execute_result"
    }
   ],
   "source": [
    "precision_score(y_test, y_pred2)"
   ]
  },
  {
   "cell_type": "markdown",
   "id": "dd7474fe",
   "metadata": {},
   "source": [
    "### KNeighbors Classifier"
   ]
  },
  {
   "cell_type": "code",
   "execution_count": 73,
   "id": "4cf3d5a7",
   "metadata": {},
   "outputs": [],
   "source": [
    "from sklearn.neighbors import KNeighborsClassifier"
   ]
  },
  {
   "cell_type": "code",
   "execution_count": 74,
   "id": "3c41773a",
   "metadata": {},
   "outputs": [],
   "source": [
    "knn = KNeighborsClassifier()"
   ]
  },
  {
   "cell_type": "code",
   "execution_count": 75,
   "id": "4c7ba4fa",
   "metadata": {},
   "outputs": [
    {
     "data": {
      "text/plain": [
       "KNeighborsClassifier()"
      ]
     },
     "execution_count": 75,
     "metadata": {},
     "output_type": "execute_result"
    }
   ],
   "source": [
    "knn.fit(x_train, y_train)"
   ]
  },
  {
   "cell_type": "markdown",
   "id": "1dcd15c3",
   "metadata": {},
   "source": [
    "Now let's perform a predicition"
   ]
  },
  {
   "cell_type": "code",
   "execution_count": 76,
   "id": "7a5c0b27",
   "metadata": {},
   "outputs": [],
   "source": [
    "y_pred3 = knn.predict(x_test)"
   ]
  },
  {
   "cell_type": "code",
   "execution_count": 77,
   "id": "f027227c",
   "metadata": {},
   "outputs": [
    {
     "data": {
      "text/plain": [
       "0.9079037800687285"
      ]
     },
     "execution_count": 77,
     "metadata": {},
     "output_type": "execute_result"
    }
   ],
   "source": [
    "accuracy_score(y_test, y_pred3)"
   ]
  },
  {
   "cell_type": "code",
   "execution_count": 78,
   "id": "fee79ff9",
   "metadata": {},
   "outputs": [
    {
     "data": {
      "text/plain": [
       "0.8727272727272727"
      ]
     },
     "execution_count": 78,
     "metadata": {},
     "output_type": "execute_result"
    }
   ],
   "source": [
    "precision_score(y_test, y_pred3)"
   ]
  },
  {
   "cell_type": "markdown",
   "id": "61e803fc",
   "metadata": {},
   "source": [
    "### Decision Tree Classifier"
   ]
  },
  {
   "cell_type": "code",
   "execution_count": 79,
   "id": "ca41b847",
   "metadata": {},
   "outputs": [],
   "source": [
    "from sklearn.tree import DecisionTreeClassifier"
   ]
  },
  {
   "cell_type": "code",
   "execution_count": 80,
   "id": "929e29e9",
   "metadata": {},
   "outputs": [],
   "source": [
    "decision_tree = DecisionTreeClassifier()"
   ]
  },
  {
   "cell_type": "code",
   "execution_count": 81,
   "id": "1b7bd448",
   "metadata": {},
   "outputs": [
    {
     "data": {
      "text/plain": [
       "DecisionTreeClassifier()"
      ]
     },
     "execution_count": 81,
     "metadata": {},
     "output_type": "execute_result"
    }
   ],
   "source": [
    "decision_tree.fit(x_train, y_train)"
   ]
  },
  {
   "cell_type": "markdown",
   "id": "01e577ad",
   "metadata": {},
   "source": [
    "Now let's perform Prediction"
   ]
  },
  {
   "cell_type": "code",
   "execution_count": 82,
   "id": "1e2fa579",
   "metadata": {},
   "outputs": [],
   "source": [
    "y_pred4 = decision_tree.predict(x_test)"
   ]
  },
  {
   "cell_type": "code",
   "execution_count": 83,
   "id": "ca7a8c82",
   "metadata": {},
   "outputs": [
    {
     "data": {
      "text/plain": [
       "0.8962199312714777"
      ]
     },
     "execution_count": 83,
     "metadata": {},
     "output_type": "execute_result"
    }
   ],
   "source": [
    "accuracy_score(y_test, y_pred4)"
   ]
  },
  {
   "cell_type": "code",
   "execution_count": 84,
   "id": "ce04b3ec",
   "metadata": {},
   "outputs": [
    {
     "data": {
      "text/plain": [
       "0.835820895522388"
      ]
     },
     "execution_count": 84,
     "metadata": {},
     "output_type": "execute_result"
    }
   ],
   "source": [
    "precision_score(y_test, y_pred4)"
   ]
  },
  {
   "cell_type": "markdown",
   "id": "b4913d57",
   "metadata": {},
   "source": [
    "### Random Forest Classifier"
   ]
  },
  {
   "cell_type": "code",
   "execution_count": 85,
   "id": "e9197ee5",
   "metadata": {},
   "outputs": [],
   "source": [
    "from sklearn.ensemble import RandomForestClassifier"
   ]
  },
  {
   "cell_type": "code",
   "execution_count": 86,
   "id": "8d56a782",
   "metadata": {},
   "outputs": [],
   "source": [
    "rf = RandomForestClassifier()"
   ]
  },
  {
   "cell_type": "code",
   "execution_count": 87,
   "id": "61dd5516",
   "metadata": {},
   "outputs": [
    {
     "data": {
      "text/plain": [
       "RandomForestClassifier()"
      ]
     },
     "execution_count": 87,
     "metadata": {},
     "output_type": "execute_result"
    }
   ],
   "source": [
    "rf.fit(x_train, y_train)"
   ]
  },
  {
   "cell_type": "markdown",
   "id": "5197c5d4",
   "metadata": {},
   "source": [
    "Now let's perform prediction "
   ]
  },
  {
   "cell_type": "code",
   "execution_count": 88,
   "id": "a6d0b400",
   "metadata": {},
   "outputs": [],
   "source": [
    "y_pred5 = rf.predict(x_test)"
   ]
  },
  {
   "cell_type": "code",
   "execution_count": 89,
   "id": "7a03027f",
   "metadata": {},
   "outputs": [
    {
     "data": {
      "text/plain": [
       "0.9017182130584193"
      ]
     },
     "execution_count": 89,
     "metadata": {},
     "output_type": "execute_result"
    }
   ],
   "source": [
    "accuracy_score(y_test, y_pred5)"
   ]
  },
  {
   "cell_type": "code",
   "execution_count": 90,
   "id": "40c65bb6",
   "metadata": {},
   "outputs": [
    {
     "data": {
      "text/plain": [
       "0.8423645320197044"
      ]
     },
     "execution_count": 90,
     "metadata": {},
     "output_type": "execute_result"
    }
   ],
   "source": [
    "precision_score(y_test, y_pred5)"
   ]
  },
  {
   "cell_type": "markdown",
   "id": "1ca7673f",
   "metadata": {},
   "source": [
    "### Gradient Boosting Classifier"
   ]
  },
  {
   "cell_type": "code",
   "execution_count": 91,
   "id": "1b057bf9",
   "metadata": {},
   "outputs": [],
   "source": [
    "from sklearn.ensemble import GradientBoostingClassifier"
   ]
  },
  {
   "cell_type": "code",
   "execution_count": 92,
   "id": "8a348813",
   "metadata": {},
   "outputs": [],
   "source": [
    "gradient_bc = GradientBoostingClassifier()"
   ]
  },
  {
   "cell_type": "code",
   "execution_count": 93,
   "id": "6324bfc6",
   "metadata": {},
   "outputs": [
    {
     "data": {
      "text/plain": [
       "GradientBoostingClassifier()"
      ]
     },
     "execution_count": 93,
     "metadata": {},
     "output_type": "execute_result"
    }
   ],
   "source": [
    "gradient_bc.fit(x_train, y_train)"
   ]
  },
  {
   "cell_type": "markdown",
   "id": "19160c54",
   "metadata": {},
   "source": [
    "Again let's perform prediction"
   ]
  },
  {
   "cell_type": "code",
   "execution_count": 94,
   "id": "58d5fee1",
   "metadata": {},
   "outputs": [],
   "source": [
    "y_pred6 = gradient_bc.predict(x_test)"
   ]
  },
  {
   "cell_type": "code",
   "execution_count": 95,
   "id": "fff53c9b",
   "metadata": {},
   "outputs": [
    {
     "data": {
      "text/plain": [
       "0.9106529209621993"
      ]
     },
     "execution_count": 95,
     "metadata": {},
     "output_type": "execute_result"
    }
   ],
   "source": [
    "accuracy_score(y_test, y_pred6)"
   ]
  },
  {
   "cell_type": "code",
   "execution_count": 96,
   "id": "1e55004a",
   "metadata": {},
   "outputs": [
    {
     "data": {
      "text/plain": [
       "0.8740359897172236"
      ]
     },
     "execution_count": 96,
     "metadata": {},
     "output_type": "execute_result"
    }
   ],
   "source": [
    "precision_score(y_test, y_pred6)"
   ]
  },
  {
   "cell_type": "markdown",
   "id": "bd96cef3",
   "metadata": {},
   "source": [
    "### Selecting the best Model"
   ]
  },
  {
   "cell_type": "code",
   "execution_count": 97,
   "id": "44f0ebdc",
   "metadata": {},
   "outputs": [],
   "source": [
    "final_accuracy_data = pd.DataFrame({'Models': ['LR', 'SVC', 'KNN', 'DT', 'RF', 'gradient_bc'],\n",
    "                           'Accuracy': [accuracy_score(y_test, y_pred1),\n",
    "                                        accuracy_score(y_test, y_pred2),\n",
    "                                        accuracy_score(y_test, y_pred3),\n",
    "                                        accuracy_score(y_test, y_pred4),\n",
    "                                        accuracy_score(y_test, y_pred5),\n",
    "                                        accuracy_score(y_test, y_pred6)]})"
   ]
  },
  {
   "cell_type": "code",
   "execution_count": 98,
   "id": "0078c382",
   "metadata": {},
   "outputs": [
    {
     "data": {
      "text/html": [
       "<div>\n",
       "<style scoped>\n",
       "    .dataframe tbody tr th:only-of-type {\n",
       "        vertical-align: middle;\n",
       "    }\n",
       "\n",
       "    .dataframe tbody tr th {\n",
       "        vertical-align: top;\n",
       "    }\n",
       "\n",
       "    .dataframe thead th {\n",
       "        text-align: right;\n",
       "    }\n",
       "</style>\n",
       "<table border=\"1\" class=\"dataframe\">\n",
       "  <thead>\n",
       "    <tr style=\"text-align: right;\">\n",
       "      <th></th>\n",
       "      <th>Models</th>\n",
       "      <th>Accuracy</th>\n",
       "    </tr>\n",
       "  </thead>\n",
       "  <tbody>\n",
       "    <tr>\n",
       "      <th>0</th>\n",
       "      <td>LR</td>\n",
       "      <td>0.870790</td>\n",
       "    </tr>\n",
       "    <tr>\n",
       "      <th>1</th>\n",
       "      <td>SVC</td>\n",
       "      <td>0.904467</td>\n",
       "    </tr>\n",
       "    <tr>\n",
       "      <th>2</th>\n",
       "      <td>KNN</td>\n",
       "      <td>0.907904</td>\n",
       "    </tr>\n",
       "    <tr>\n",
       "      <th>3</th>\n",
       "      <td>DT</td>\n",
       "      <td>0.896220</td>\n",
       "    </tr>\n",
       "    <tr>\n",
       "      <th>4</th>\n",
       "      <td>RF</td>\n",
       "      <td>0.901718</td>\n",
       "    </tr>\n",
       "    <tr>\n",
       "      <th>5</th>\n",
       "      <td>gradient_bc</td>\n",
       "      <td>0.910653</td>\n",
       "    </tr>\n",
       "  </tbody>\n",
       "</table>\n",
       "</div>"
      ],
      "text/plain": [
       "        Models  Accuracy\n",
       "0           LR  0.870790\n",
       "1          SVC  0.904467\n",
       "2          KNN  0.907904\n",
       "3           DT  0.896220\n",
       "4           RF  0.901718\n",
       "5  gradient_bc  0.910653"
      ]
     },
     "execution_count": 98,
     "metadata": {},
     "output_type": "execute_result"
    }
   ],
   "source": [
    "final_accuracy_data"
   ]
  },
  {
   "cell_type": "markdown",
   "id": "3976aa72",
   "metadata": {},
   "source": [
    "Let's Visualize the model Accuracy"
   ]
  },
  {
   "cell_type": "code",
   "execution_count": 99,
   "id": "60ee6f24",
   "metadata": {},
   "outputs": [
    {
     "name": "stderr",
     "output_type": "stream",
     "text": [
      "C:\\Anaconda\\lib\\site-packages\\seaborn\\_decorators.py:36: FutureWarning: Pass the following variables as keyword args: x, y. From version 0.12, the only valid positional argument will be `data`, and passing other arguments without an explicit keyword will result in an error or misinterpretation.\n",
      "  warnings.warn(\n"
     ]
    },
    {
     "data": {
      "text/plain": [
       "<AxesSubplot:xlabel='Models', ylabel='Accuracy'>"
      ]
     },
     "execution_count": 99,
     "metadata": {},
     "output_type": "execute_result"
    },
    {
     "data": {
      "image/png": "[encoded data removed]",
      "text/plain": [
       "<Figure size 432x288 with 1 Axes>"
      ]
     },
     "metadata": {},
     "output_type": "display_data"
    }
   ],
   "source": [
    "sns.barplot(final_accuracy_data['Models'], final_accuracy_data['Accuracy'])"
   ]
  },
  {
   "cell_type": "code",
   "execution_count": 100,
   "id": "ac373737",
   "metadata": {},
   "outputs": [],
   "source": [
    "final_precision_data = pd.DataFrame({'Models': ['LR', 'SVC', 'KNN', 'DT', 'RF', 'gradient_bc'],\n",
    "                           'Precision':[precision_score(y_test, y_pred1),\n",
    "                                        precision_score(y_test, y_pred2),\n",
    "                                        precision_score(y_test, y_pred3),\n",
    "                                        precision_score(y_test, y_pred4),\n",
    "                                        precision_score(y_test, y_pred5),\n",
    "                                        precision_score(y_test, y_pred6)]})"
   ]
  },
  {
   "cell_type": "code",
   "execution_count": 101,
   "id": "957b43ed",
   "metadata": {},
   "outputs": [
    {
     "data": {
      "text/html": [
       "<div>\n",
       "<style scoped>\n",
       "    .dataframe tbody tr th:only-of-type {\n",
       "        vertical-align: middle;\n",
       "    }\n",
       "\n",
       "    .dataframe tbody tr th {\n",
       "        vertical-align: top;\n",
       "    }\n",
       "\n",
       "    .dataframe thead th {\n",
       "        text-align: right;\n",
       "    }\n",
       "</style>\n",
       "<table border=\"1\" class=\"dataframe\">\n",
       "  <thead>\n",
       "    <tr style=\"text-align: right;\">\n",
       "      <th></th>\n",
       "      <th>Models</th>\n",
       "      <th>Precision</th>\n",
       "    </tr>\n",
       "  </thead>\n",
       "  <tbody>\n",
       "    <tr>\n",
       "      <th>0</th>\n",
       "      <td>LR</td>\n",
       "      <td>0.804178</td>\n",
       "    </tr>\n",
       "    <tr>\n",
       "      <th>1</th>\n",
       "      <td>SVC</td>\n",
       "      <td>0.881081</td>\n",
       "    </tr>\n",
       "    <tr>\n",
       "      <th>2</th>\n",
       "      <td>KNN</td>\n",
       "      <td>0.872727</td>\n",
       "    </tr>\n",
       "    <tr>\n",
       "      <th>3</th>\n",
       "      <td>DT</td>\n",
       "      <td>0.835821</td>\n",
       "    </tr>\n",
       "    <tr>\n",
       "      <th>4</th>\n",
       "      <td>RF</td>\n",
       "      <td>0.842365</td>\n",
       "    </tr>\n",
       "    <tr>\n",
       "      <th>5</th>\n",
       "      <td>gradient_bc</td>\n",
       "      <td>0.874036</td>\n",
       "    </tr>\n",
       "  </tbody>\n",
       "</table>\n",
       "</div>"
      ],
      "text/plain": [
       "        Models  Precision\n",
       "0           LR   0.804178\n",
       "1          SVC   0.881081\n",
       "2          KNN   0.872727\n",
       "3           DT   0.835821\n",
       "4           RF   0.842365\n",
       "5  gradient_bc   0.874036"
      ]
     },
     "execution_count": 101,
     "metadata": {},
     "output_type": "execute_result"
    }
   ],
   "source": [
    "final_precision_data"
   ]
  },
  {
   "cell_type": "markdown",
   "id": "832e631d",
   "metadata": {},
   "source": [
    "Let's Visualize the model Accuracy"
   ]
  },
  {
   "cell_type": "code",
   "execution_count": 102,
   "id": "30816ad9",
   "metadata": {},
   "outputs": [
    {
     "name": "stderr",
     "output_type": "stream",
     "text": [
      "C:\\Anaconda\\lib\\site-packages\\seaborn\\_decorators.py:36: FutureWarning: Pass the following variables as keyword args: x, y. From version 0.12, the only valid positional argument will be `data`, and passing other arguments without an explicit keyword will result in an error or misinterpretation.\n",
      "  warnings.warn(\n"
     ]
    },
    {
     "data": {
      "text/plain": [
       "<AxesSubplot:xlabel='Models', ylabel='Precision'>"
      ]
     },
     "execution_count": 102,
     "metadata": {},
     "output_type": "execute_result"
    },
    {
     "data": {
      "image/png": "[encoded data removed]",
      "text/plain": [
       "<Figure size 432x288 with 1 Axes>"
      ]
     },
     "metadata": {},
     "output_type": "display_data"
    }
   ],
   "source": [
    "sns.barplot(final_precision_data['Models'], final_precision_data['Precision'])"
   ]
  },
  {
   "cell_type": "markdown",
   "id": "869249c5",
   "metadata": {},
   "source": [
    "### Now Let's save our Best Model"
   ]
  },
  {
   "cell_type": "code",
   "execution_count": 103,
   "id": "9755e701",
   "metadata": {},
   "outputs": [],
   "source": [
    "x_train = scaler.fit_transform(x_train)"
   ]
  },
  {
   "cell_type": "code",
   "execution_count": 104,
   "id": "fff2c8ee",
   "metadata": {},
   "outputs": [
    {
     "data": {
      "text/plain": [
       "GradientBoostingClassifier()"
      ]
     },
     "execution_count": 104,
     "metadata": {},
     "output_type": "execute_result"
    }
   ],
   "source": [
    "gradient_bc.fit(x_train, y_train)"
   ]
  },
  {
   "cell_type": "code",
   "execution_count": 105,
   "id": "35afbb32",
   "metadata": {},
   "outputs": [],
   "source": [
    "import joblib"
   ]
  },
  {
   "cell_type": "code",
   "execution_count": 106,
   "id": "e051dd5b",
   "metadata": {},
   "outputs": [
    {
     "data": {
      "text/plain": [
       "[\"Lu's Communication_Churn_Prediction\"]"
      ]
     },
     "execution_count": 106,
     "metadata": {},
     "output_type": "execute_result"
    }
   ],
   "source": [
    "joblib.dump(gradient_bc, \"Lu's Communication_Churn_Prediction\")"
   ]
  },
  {
   "cell_type": "markdown",
   "id": "ddd7e735",
   "metadata": {},
   "source": [
    "### To run/use our model for business prediction\n",
    "\n",
    "From our built model, we can see that we have a high precision and accuracy for the Support Vector Classifier model and the Gradient Boosting Classifier model.\n",
    "\n",
    "However, I have chosen to run my prediction using the Gradient Boosting Classifier."
   ]
  },
  {
   "cell_type": "code",
   "execution_count": 107,
   "id": "277fd0f9",
   "metadata": {},
   "outputs": [],
   "source": [
    "model = joblib.load(\"Lu's Communication_Churn_Prediction\")"
   ]
  },
  {
   "cell_type": "code",
   "execution_count": 108,
   "id": "1f3c4db9",
   "metadata": {},
   "outputs": [
    {
     "data": {
      "text/plain": [
       "Index(['gender', 'partner', 'dependents', 'senior', 'Tenure', 'monthly_cost',\n",
       "       'package', 'survey', 'Class', '2%_discount'],\n",
       "      dtype='object')"
      ]
     },
     "execution_count": 108,
     "metadata": {},
     "output_type": "execute_result"
    }
   ],
   "source": [
    "churn_df.columns"
   ]
  },
  {
   "cell_type": "markdown",
   "id": "f353f5e2",
   "metadata": {},
   "source": [
    "Re-arranging the columns so that the \"Class\" column would be the last in the dataset"
   ]
  },
  {
   "cell_type": "code",
   "execution_count": 109,
   "id": "31c31eb5",
   "metadata": {},
   "outputs": [],
   "source": [
    "column_title = list(churn_df.columns)"
   ]
  },
  {
   "cell_type": "code",
   "execution_count": 110,
   "id": "ed983beb",
   "metadata": {},
   "outputs": [
    {
     "data": {
      "text/plain": [
       "['gender',\n",
       " 'partner',\n",
       " 'dependents',\n",
       " 'senior',\n",
       " 'Tenure',\n",
       " 'monthly_cost',\n",
       " 'package',\n",
       " 'survey',\n",
       " '2%_discount',\n",
       " 'Class']"
      ]
     },
     "execution_count": 110,
     "metadata": {},
     "output_type": "execute_result"
    }
   ],
   "source": [
    "column_title[8],column_title[9] = column_title[9],column_title[8]\n",
    "column_title"
   ]
  },
  {
   "cell_type": "code",
   "execution_count": 111,
   "id": "3c92c0f1",
   "metadata": {},
   "outputs": [
    {
     "data": {
      "text/plain": [
       "array([0])"
      ]
     },
     "execution_count": 111,
     "metadata": {},
     "output_type": "execute_result"
    }
   ],
   "source": [
    "model.predict([[1,0,1,1,7,34,3,5,0.68]])"
   ]
  },
  {
   "cell_type": "markdown",
   "id": "c03c01e1",
   "metadata": {},
   "source": [
    "Remember in our prediction we called churn = 1(Lost customer to competitors) and churn = 0( i.e Customers are satisfied with your service and therefore will continue to petronize)"
   ]
  }
 ],
 "metadata": {
  "kernelspec": {
   "display_name": "Python 3.10.5 64-bit",
   "language": "python",
   "name": "python3"
  },
  "language_info": {
   "codemirror_mode": {
    "name": "ipython",
    "version": 3
   },
   "file_extension": ".py",
   "mimetype": "text/x-python",
   "name": "python",
   "nbconvert_exporter": "python",
   "pygments_lexer": "ipython3",
   "version": "3.10.5"
  },
  "vscode": {
   "interpreter": {
    "hash": "b00f4f1a8acc72d86bbd976b2abee2a77cd87cf7f81146b56cd88cef28e7843d"
   }
  }
 },
 "nbformat": 4,
 "nbformat_minor": 5
}
